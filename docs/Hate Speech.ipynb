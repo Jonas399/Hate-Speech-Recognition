{
 "cells": [
  {
   "cell_type": "code",
   "execution_count": 5,
   "id": "fd73216f",
   "metadata": {},
   "outputs": [],
   "source": [
    "import tensorflow as tf\n",
    "from tensorflow.keras import Sequential\n",
    "from tensorflow import keras\n",
    "from tensorflow.keras.preprocessing.text import Tokenizer\n",
    "from tensorflow.keras.preprocessing.sequence import pad_sequences\n",
    "from tensorflow.keras.utils import to_categorical\n",
    "from tensorflow.keras import layers, activations\n",
    "from tensorflow.keras.layers import *\n",
    "from tensorflow.keras.layers.experimental.preprocessing import TextVectorization\n",
    "\n",
    "import sklearn as sk\n",
    "from sklearn.utils import class_weight\n",
    "from sklearn.linear_model import LogisticRegression\n",
    "from sklearn.naive_bayes import MultinomialNB\n",
    "from sklearn.multioutput import MultiOutputClassifier\n",
    "from sklearn.model_selection import train_test_split\n",
    "from sklearn.preprocessing import LabelEncoder\n",
    "from sklearn.ensemble import RandomForestClassifier\n",
    "from sklearn.feature_extraction.text import TfidfVectorizer\n",
    "from sklearn.feature_extraction.text import CountVectorizer\n",
    "from sklearn.metrics import classification_report, f1_score, accuracy_score, confusion_matrix, plot_confusion_matrix, ConfusionMatrixDisplay\n",
    "\n",
    "import nltk\n",
    "from nltk.corpus import stopwords\n",
    "from nltk.stem import PorterStemmer\n",
    "from nltk.tokenize import word_tokenize\n",
    "\n",
    "import itertools\n",
    "from collections import Counter\n",
    "\n",
    "import matplotlib.pyplot as plt\n",
    "import numpy as np\n",
    "import pandas as pd"
   ]
  },
  {
   "cell_type": "markdown",
   "id": "c5cb04d5",
   "metadata": {},
   "source": [
    "# Import Data\n",
    "\n",
    "The dataset used for our project is imported here."
   ]
  },
  {
   "cell_type": "code",
   "execution_count": 7,
   "id": "a290d3fd",
   "metadata": {},
   "outputs": [],
   "source": [
    "df = pd.read_csv(\"../data/labeled_data.csv\")"
   ]
  },
  {
   "cell_type": "markdown",
   "id": "61d9835e",
   "metadata": {},
   "source": [
    "The structure of the imported data can be seen in the following cell.\n",
    "\n",
    "The dataset selected for training contains 7 columns and almost 24.783 rows of data. Hereby are the text passages differentiated into 3 different classes: hate_speech, offensive_language or neither. This classification was conducted by volunteers of CrowdFlower. The predominant predicted class is stored in the column \"class\". "
   ]
  },
  {
   "cell_type": "code",
   "execution_count": 8,
   "id": "98f2bb6b",
   "metadata": {},
   "outputs": [
    {
     "data": {
      "text/html": [
       "<div>\n",
       "<style scoped>\n",
       "    .dataframe tbody tr th:only-of-type {\n",
       "        vertical-align: middle;\n",
       "    }\n",
       "\n",
       "    .dataframe tbody tr th {\n",
       "        vertical-align: top;\n",
       "    }\n",
       "\n",
       "    .dataframe thead th {\n",
       "        text-align: right;\n",
       "    }\n",
       "</style>\n",
       "<table border=\"1\" class=\"dataframe\">\n",
       "  <thead>\n",
       "    <tr style=\"text-align: right;\">\n",
       "      <th></th>\n",
       "      <th>Unnamed: 0</th>\n",
       "      <th>count</th>\n",
       "      <th>hate_speech</th>\n",
       "      <th>offensive_language</th>\n",
       "      <th>neither</th>\n",
       "      <th>class</th>\n",
       "      <th>tweet</th>\n",
       "    </tr>\n",
       "  </thead>\n",
       "  <tbody>\n",
       "    <tr>\n",
       "      <th>0</th>\n",
       "      <td>0</td>\n",
       "      <td>3</td>\n",
       "      <td>0</td>\n",
       "      <td>0</td>\n",
       "      <td>3</td>\n",
       "      <td>2</td>\n",
       "      <td>!!! RT @mayasolovely: As a woman you shouldn't...</td>\n",
       "    </tr>\n",
       "    <tr>\n",
       "      <th>1</th>\n",
       "      <td>1</td>\n",
       "      <td>3</td>\n",
       "      <td>0</td>\n",
       "      <td>3</td>\n",
       "      <td>0</td>\n",
       "      <td>1</td>\n",
       "      <td>!!!!! RT @mleew17: boy dats cold...tyga dwn ba...</td>\n",
       "    </tr>\n",
       "    <tr>\n",
       "      <th>2</th>\n",
       "      <td>2</td>\n",
       "      <td>3</td>\n",
       "      <td>0</td>\n",
       "      <td>3</td>\n",
       "      <td>0</td>\n",
       "      <td>1</td>\n",
       "      <td>!!!!!!! RT @UrKindOfBrand Dawg!!!! RT @80sbaby...</td>\n",
       "    </tr>\n",
       "    <tr>\n",
       "      <th>3</th>\n",
       "      <td>3</td>\n",
       "      <td>3</td>\n",
       "      <td>0</td>\n",
       "      <td>2</td>\n",
       "      <td>1</td>\n",
       "      <td>1</td>\n",
       "      <td>!!!!!!!!! RT @C_G_Anderson: @viva_based she lo...</td>\n",
       "    </tr>\n",
       "    <tr>\n",
       "      <th>4</th>\n",
       "      <td>4</td>\n",
       "      <td>6</td>\n",
       "      <td>0</td>\n",
       "      <td>6</td>\n",
       "      <td>0</td>\n",
       "      <td>1</td>\n",
       "      <td>!!!!!!!!!!!!! RT @ShenikaRoberts: The shit you...</td>\n",
       "    </tr>\n",
       "    <tr>\n",
       "      <th>...</th>\n",
       "      <td>...</td>\n",
       "      <td>...</td>\n",
       "      <td>...</td>\n",
       "      <td>...</td>\n",
       "      <td>...</td>\n",
       "      <td>...</td>\n",
       "      <td>...</td>\n",
       "    </tr>\n",
       "    <tr>\n",
       "      <th>24778</th>\n",
       "      <td>25291</td>\n",
       "      <td>3</td>\n",
       "      <td>0</td>\n",
       "      <td>2</td>\n",
       "      <td>1</td>\n",
       "      <td>1</td>\n",
       "      <td>you's a muthaf***in lie &amp;#8220;@LifeAsKing: @2...</td>\n",
       "    </tr>\n",
       "    <tr>\n",
       "      <th>24779</th>\n",
       "      <td>25292</td>\n",
       "      <td>3</td>\n",
       "      <td>0</td>\n",
       "      <td>1</td>\n",
       "      <td>2</td>\n",
       "      <td>2</td>\n",
       "      <td>you've gone and broke the wrong heart baby, an...</td>\n",
       "    </tr>\n",
       "    <tr>\n",
       "      <th>24780</th>\n",
       "      <td>25294</td>\n",
       "      <td>3</td>\n",
       "      <td>0</td>\n",
       "      <td>3</td>\n",
       "      <td>0</td>\n",
       "      <td>1</td>\n",
       "      <td>young buck wanna eat!!.. dat nigguh like I ain...</td>\n",
       "    </tr>\n",
       "    <tr>\n",
       "      <th>24781</th>\n",
       "      <td>25295</td>\n",
       "      <td>6</td>\n",
       "      <td>0</td>\n",
       "      <td>6</td>\n",
       "      <td>0</td>\n",
       "      <td>1</td>\n",
       "      <td>youu got wild bitches tellin you lies</td>\n",
       "    </tr>\n",
       "    <tr>\n",
       "      <th>24782</th>\n",
       "      <td>25296</td>\n",
       "      <td>3</td>\n",
       "      <td>0</td>\n",
       "      <td>0</td>\n",
       "      <td>3</td>\n",
       "      <td>2</td>\n",
       "      <td>~~Ruffled | Ntac Eileen Dahlia - Beautiful col...</td>\n",
       "    </tr>\n",
       "  </tbody>\n",
       "</table>\n",
       "<p>24783 rows × 7 columns</p>\n",
       "</div>"
      ],
      "text/plain": [
       "       Unnamed: 0  count  hate_speech  offensive_language  neither  class  \\\n",
       "0               0      3            0                   0        3      2   \n",
       "1               1      3            0                   3        0      1   \n",
       "2               2      3            0                   3        0      1   \n",
       "3               3      3            0                   2        1      1   \n",
       "4               4      6            0                   6        0      1   \n",
       "...           ...    ...          ...                 ...      ...    ...   \n",
       "24778       25291      3            0                   2        1      1   \n",
       "24779       25292      3            0                   1        2      2   \n",
       "24780       25294      3            0                   3        0      1   \n",
       "24781       25295      6            0                   6        0      1   \n",
       "24782       25296      3            0                   0        3      2   \n",
       "\n",
       "                                                   tweet  \n",
       "0      !!! RT @mayasolovely: As a woman you shouldn't...  \n",
       "1      !!!!! RT @mleew17: boy dats cold...tyga dwn ba...  \n",
       "2      !!!!!!! RT @UrKindOfBrand Dawg!!!! RT @80sbaby...  \n",
       "3      !!!!!!!!! RT @C_G_Anderson: @viva_based she lo...  \n",
       "4      !!!!!!!!!!!!! RT @ShenikaRoberts: The shit you...  \n",
       "...                                                  ...  \n",
       "24778  you's a muthaf***in lie &#8220;@LifeAsKing: @2...  \n",
       "24779  you've gone and broke the wrong heart baby, an...  \n",
       "24780  young buck wanna eat!!.. dat nigguh like I ain...  \n",
       "24781              youu got wild bitches tellin you lies  \n",
       "24782  ~~Ruffled | Ntac Eileen Dahlia - Beautiful col...  \n",
       "\n",
       "[24783 rows x 7 columns]"
      ]
     },
     "execution_count": 8,
     "metadata": {},
     "output_type": "execute_result"
    }
   ],
   "source": [
    "df"
   ]
  },
  {
   "cell_type": "markdown",
   "id": "0c860e2b",
   "metadata": {},
   "source": [
    "# Tokenizer\n",
    "\n",
    "In order to process the data later on, all Tweets are tokenized. This transforms the Tweet into a list of single words contained in the original Tweet.\n",
    "\n",
    "The Tweets are stored in the dataframe df (column \"tweet\")"
   ]
  },
  {
   "cell_type": "code",
   "execution_count": 9,
   "id": "bae58557",
   "metadata": {},
   "outputs": [],
   "source": [
    "#Split String for each word\n",
    "def toLowerAndSplit(tweet):\n",
    "    tweet = tweet.lower()\n",
    "    tweet = tweet.split()\n",
    "    return tweet"
   ]
  },
  {
   "cell_type": "markdown",
   "id": "8c43b5e5",
   "metadata": {},
   "source": [
    "The method defined splits every word and moves it to lower cases, so the individual words contained within the tweet become individual analyzable."
   ]
  },
  {
   "cell_type": "code",
   "execution_count": 10,
   "id": "42b13b72",
   "metadata": {},
   "outputs": [],
   "source": [
    "tweets = pd.DataFrame(df[\"tweet\"].apply(toLowerAndSplit))"
   ]
  },
  {
   "cell_type": "code",
   "execution_count": 11,
   "id": "61cb4bb3",
   "metadata": {},
   "outputs": [
    {
     "data": {
      "text/html": [
       "<div>\n",
       "<style scoped>\n",
       "    .dataframe tbody tr th:only-of-type {\n",
       "        vertical-align: middle;\n",
       "    }\n",
       "\n",
       "    .dataframe tbody tr th {\n",
       "        vertical-align: top;\n",
       "    }\n",
       "\n",
       "    .dataframe thead th {\n",
       "        text-align: right;\n",
       "    }\n",
       "</style>\n",
       "<table border=\"1\" class=\"dataframe\">\n",
       "  <thead>\n",
       "    <tr style=\"text-align: right;\">\n",
       "      <th></th>\n",
       "      <th>tweet</th>\n",
       "    </tr>\n",
       "  </thead>\n",
       "  <tbody>\n",
       "    <tr>\n",
       "      <th>0</th>\n",
       "      <td>[!!!, rt, @mayasolovely:, as, a, woman, you, s...</td>\n",
       "    </tr>\n",
       "    <tr>\n",
       "      <th>1</th>\n",
       "      <td>[!!!!!, rt, @mleew17:, boy, dats, cold...tyga,...</td>\n",
       "    </tr>\n",
       "    <tr>\n",
       "      <th>2</th>\n",
       "      <td>[!!!!!!!, rt, @urkindofbrand, dawg!!!!, rt, @8...</td>\n",
       "    </tr>\n",
       "    <tr>\n",
       "      <th>3</th>\n",
       "      <td>[!!!!!!!!!, rt, @c_g_anderson:, @viva_based, s...</td>\n",
       "    </tr>\n",
       "    <tr>\n",
       "      <th>4</th>\n",
       "      <td>[!!!!!!!!!!!!!, rt, @shenikaroberts:, the, shi...</td>\n",
       "    </tr>\n",
       "    <tr>\n",
       "      <th>...</th>\n",
       "      <td>...</td>\n",
       "    </tr>\n",
       "    <tr>\n",
       "      <th>24778</th>\n",
       "      <td>[you's, a, muthaf***in, lie, &amp;#8220;@lifeaskin...</td>\n",
       "    </tr>\n",
       "    <tr>\n",
       "      <th>24779</th>\n",
       "      <td>[you've, gone, and, broke, the, wrong, heart, ...</td>\n",
       "    </tr>\n",
       "    <tr>\n",
       "      <th>24780</th>\n",
       "      <td>[young, buck, wanna, eat!!.., dat, nigguh, lik...</td>\n",
       "    </tr>\n",
       "    <tr>\n",
       "      <th>24781</th>\n",
       "      <td>[youu, got, wild, bitches, tellin, you, lies]</td>\n",
       "    </tr>\n",
       "    <tr>\n",
       "      <th>24782</th>\n",
       "      <td>[~~ruffled, |, ntac, eileen, dahlia, -, beauti...</td>\n",
       "    </tr>\n",
       "  </tbody>\n",
       "</table>\n",
       "<p>24783 rows × 1 columns</p>\n",
       "</div>"
      ],
      "text/plain": [
       "                                                   tweet\n",
       "0      [!!!, rt, @mayasolovely:, as, a, woman, you, s...\n",
       "1      [!!!!!, rt, @mleew17:, boy, dats, cold...tyga,...\n",
       "2      [!!!!!!!, rt, @urkindofbrand, dawg!!!!, rt, @8...\n",
       "3      [!!!!!!!!!, rt, @c_g_anderson:, @viva_based, s...\n",
       "4      [!!!!!!!!!!!!!, rt, @shenikaroberts:, the, shi...\n",
       "...                                                  ...\n",
       "24778  [you's, a, muthaf***in, lie, &#8220;@lifeaskin...\n",
       "24779  [you've, gone, and, broke, the, wrong, heart, ...\n",
       "24780  [young, buck, wanna, eat!!.., dat, nigguh, lik...\n",
       "24781      [youu, got, wild, bitches, tellin, you, lies]\n",
       "24782  [~~ruffled, |, ntac, eileen, dahlia, -, beauti...\n",
       "\n",
       "[24783 rows x 1 columns]"
      ]
     },
     "execution_count": 11,
     "metadata": {},
     "output_type": "execute_result"
    }
   ],
   "source": [
    "tweets"
   ]
  },
  {
   "cell_type": "markdown",
   "id": "44747d5b",
   "metadata": {},
   "source": [
    "# Visual Overview\n",
    "\n",
    "In order to gain a first impression of the used dataset, we counted the number of times a specific word is present in the observed Tweets."
   ]
  },
  {
   "cell_type": "code",
   "execution_count": 12,
   "id": "f09123d0",
   "metadata": {},
   "outputs": [],
   "source": [
    "#Create a list containing all words mentioned in tweets\n",
    "all_words = list(itertools.chain(*tweets[\"tweet\"]))"
   ]
  },
  {
   "cell_type": "markdown",
   "id": "81079639",
   "metadata": {},
   "source": [
    "## Count Words"
   ]
  },
  {
   "cell_type": "code",
   "execution_count": 13,
   "id": "4eccfef3",
   "metadata": {},
   "outputs": [],
   "source": [
    "# Count of every word\n",
    "word_counts = Counter(all_words)\n",
    "\n",
    "df_uncleaned = pd.DataFrame(word_counts.most_common(10))\n"
   ]
  },
  {
   "cell_type": "code",
   "execution_count": 14,
   "id": "d39cec50",
   "metadata": {},
   "outputs": [
    {
     "data": {
      "image/png": "[encoded data removed]",
      "text/plain": [
       "<Figure size 720x360 with 1 Axes>"
      ]
     },
     "metadata": {
      "needs_background": "light"
     },
     "output_type": "display_data"
    }
   ],
   "source": [
    "df_uncleaned.plot(kind = \"area\",\n",
    "             title = \"Most frequent words\", \n",
    "             legend = False,\n",
    "             xlabel = \"Words\",\n",
    "             ylabel = \"Frequency\",\n",
    "             figsize = (10, 5))\n",
    "plt.xticks(range(0,len(df_uncleaned.index)), df_uncleaned[0])\n",
    "plt.show()"
   ]
  },
  {
   "cell_type": "markdown",
   "id": "d79f43ef",
   "metadata": {},
   "source": [
    "This graph is showing the most used words in the tweets of the dataset. It is noticeable, that many of the most frequent words are stopwords like \"a\", \"i\", \"the\", which are not important for our further analysis."
   ]
  },
  {
   "cell_type": "markdown",
   "id": "aeafc2d7",
   "metadata": {},
   "source": [
    "## Remove stopwords\n",
    "To gain more substantial insight into the data, these stopwords have to be removed. These words construct the grammatical dependencies of the english language, but do not contain any relevant information to determine hate speech.\n",
    "\n",
    "## Remove Tags\n",
    "Twitter tags such as @genericUser do not give further insight for hate speech detection purposes. Thus, they have to be removed.\n",
    "\n",
    "## Remove Links\n",
    "Similar to stopwords and Tags, links do not add meaningfull information to the purpose of hate speech --> remove\n",
    "\n",
    "## Remove Twitter Elements\n",
    "The Tweets can contain Twitter excluvsive information, such as \"rt\", \"rts\" or \"retweet\". These formulations do not add any meaning to the Tweets content and have therefore to be removed."
   ]
  },
  {
   "cell_type": "code",
   "execution_count": 15,
   "id": "90ff0bd6",
   "metadata": {},
   "outputs": [],
   "source": [
    "#Downloads list with stopwords of the english language\n",
    "#Uncomment if nltk stopwords were not downloaded yet\n",
    "#nltk.download('stopwords')"
   ]
  },
  {
   "cell_type": "code",
   "execution_count": 16,
   "id": "53e0f914",
   "metadata": {},
   "outputs": [],
   "source": [
    "#Define variable wit henglish stopwords\n",
    "sw = stopwords.words(\"english\")\n",
    "twitter_elements = [\"rt\", \"rts\", \"retweet\"]\n",
    "i_elements = [\"i\", \"i'm\", \"im\", \"iam\"] # remove u?\n",
    "most_common = word_counts.most_common()\n",
    "\n",
    "\n",
    "#Clean most frequent words by removing unwanted words for visualisation\n",
    "def removeNoiseWordCount(word_list):\n",
    "    cleaned_word_list = []\n",
    "    for element in word_list:\n",
    "        #Removes words contained in stopwords\n",
    "        if element[0] not in sw:\n",
    "            #Removes words with @ --> remove Tags\n",
    "            if \"@\" not in element[0]: \n",
    "                #Removes words containing http --> links\n",
    "                if \"http\" not in element[0]:\n",
    "                    hasTwitterElement = False\n",
    "                    hasIElement = False\n",
    "                    for tw in twitter_elements:\n",
    "                        if tw in element:\n",
    "                            hasTwitterElement = True\n",
    "                    for ie in i_elements:\n",
    "                        if ie in element:\n",
    "                            hasIElement = True\n",
    "                    if hasTwitterElement == False and hasIElement == False:\n",
    "                        cleaned_word_list.append(element)\n",
    "\n",
    "    return cleaned_word_list"
   ]
  },
  {
   "cell_type": "code",
   "execution_count": 17,
   "id": "74b75cfd",
   "metadata": {},
   "outputs": [],
   "source": [
    "cleaned_word_list_complete = removeNoiseWordCount(most_common)"
   ]
  },
  {
   "cell_type": "code",
   "execution_count": 18,
   "id": "6d739c19",
   "metadata": {},
   "outputs": [],
   "source": [
    "df_cleaned_top10 = pd.DataFrame(cleaned_word_list_complete[:10])"
   ]
  },
  {
   "cell_type": "code",
   "execution_count": 19,
   "id": "43e26d6b",
   "metadata": {},
   "outputs": [
    {
     "data": {
      "text/html": [
       "<div>\n",
       "<style scoped>\n",
       "    .dataframe tbody tr th:only-of-type {\n",
       "        vertical-align: middle;\n",
       "    }\n",
       "\n",
       "    .dataframe tbody tr th {\n",
       "        vertical-align: top;\n",
       "    }\n",
       "\n",
       "    .dataframe thead th {\n",
       "        text-align: right;\n",
       "    }\n",
       "</style>\n",
       "<table border=\"1\" class=\"dataframe\">\n",
       "  <thead>\n",
       "    <tr style=\"text-align: right;\">\n",
       "      <th></th>\n",
       "      <th>0</th>\n",
       "      <th>1</th>\n",
       "    </tr>\n",
       "  </thead>\n",
       "  <tbody>\n",
       "    <tr>\n",
       "      <th>0</th>\n",
       "      <td>bitch</td>\n",
       "      <td>6749</td>\n",
       "    </tr>\n",
       "    <tr>\n",
       "      <th>1</th>\n",
       "      <td>bitches</td>\n",
       "      <td>2677</td>\n",
       "    </tr>\n",
       "    <tr>\n",
       "      <th>2</th>\n",
       "      <td>like</td>\n",
       "      <td>2674</td>\n",
       "    </tr>\n",
       "    <tr>\n",
       "      <th>3</th>\n",
       "      <td>hoes</td>\n",
       "      <td>1977</td>\n",
       "    </tr>\n",
       "    <tr>\n",
       "      <th>4</th>\n",
       "      <td>pussy</td>\n",
       "      <td>1731</td>\n",
       "    </tr>\n",
       "    <tr>\n",
       "      <th>5</th>\n",
       "      <td>hoe</td>\n",
       "      <td>1483</td>\n",
       "    </tr>\n",
       "    <tr>\n",
       "      <th>6</th>\n",
       "      <td>ass</td>\n",
       "      <td>1472</td>\n",
       "    </tr>\n",
       "    <tr>\n",
       "      <th>7</th>\n",
       "      <td>get</td>\n",
       "      <td>1413</td>\n",
       "    </tr>\n",
       "    <tr>\n",
       "      <th>8</th>\n",
       "      <td>fuck</td>\n",
       "      <td>1311</td>\n",
       "    </tr>\n",
       "    <tr>\n",
       "      <th>9</th>\n",
       "      <td>got</td>\n",
       "      <td>1275</td>\n",
       "    </tr>\n",
       "  </tbody>\n",
       "</table>\n",
       "</div>"
      ],
      "text/plain": [
       "         0     1\n",
       "0    bitch  6749\n",
       "1  bitches  2677\n",
       "2     like  2674\n",
       "3     hoes  1977\n",
       "4    pussy  1731\n",
       "5      hoe  1483\n",
       "6      ass  1472\n",
       "7      get  1413\n",
       "8     fuck  1311\n",
       "9      got  1275"
      ]
     },
     "execution_count": 19,
     "metadata": {},
     "output_type": "execute_result"
    }
   ],
   "source": [
    "df_cleaned_top10"
   ]
  },
  {
   "cell_type": "code",
   "execution_count": 20,
   "id": "4f9593ed",
   "metadata": {},
   "outputs": [
    {
     "data": {
      "image/png": "[encoded data removed]",
      "text/plain": [
       "<Figure size 720x360 with 1 Axes>"
      ]
     },
     "metadata": {
      "needs_background": "light"
     },
     "output_type": "display_data"
    }
   ],
   "source": [
    "df_cleaned_top10.plot(kind = \"area\",\n",
    "             title = \"Most frequent words\", \n",
    "             legend = False,\n",
    "             xlabel = \"Words\",\n",
    "             ylabel = \"Frequency\",\n",
    "             figsize = (10, 5))\n",
    "plt.xticks(range(0,len(df_cleaned_top10.index)), df_cleaned_top10[0])\n",
    "plt.show()"
   ]
  },
  {
   "cell_type": "markdown",
   "id": "01ffd917",
   "metadata": {},
   "source": [
    "It is noticeable, that certain words appear both in a singualar as well as their plural form (for example bitch and bitches/ hoe and hoes). This could impare the results of our models later on. To counter this, word stems have to be extracted for each word after the data was preprocessed.  "
   ]
  },
  {
   "cell_type": "markdown",
   "id": "0cbd8a86",
   "metadata": {},
   "source": [
    "# Data Preprocessing\n",
    "\n",
    "Here the Tweets themselfes are preprocessed in a similar fashion compared to our visualisation efforts. Since the Data structure is slightly different, we opted to design a new function."
   ]
  },
  {
   "cell_type": "code",
   "execution_count": 21,
   "id": "dbefb6b1",
   "metadata": {},
   "outputs": [],
   "source": [
    "def removeNoiseFromTweet(word_list):\n",
    "    cleaned_word_list = []\n",
    "    for element in word_list:\n",
    "        for word in element:\n",
    "            #Removes words contained in stopwords\n",
    "            if word not in sw:\n",
    "                #Removes words with @ --> remove Tags\n",
    "                if \"@\" not in word: \n",
    "                    #Removes words containing http --> links\n",
    "                    if \"http\" not in word:\n",
    "                        hasTwitterElement = False\n",
    "                        hasIElement = False\n",
    "                        #Removes Twitter exclusive Words (retweet/ rt...) \n",
    "                        for tw in twitter_elements:\n",
    "                            if tw in word:\n",
    "                                hasTwitterElement = True\n",
    "                        for ie in i_elements:\n",
    "                            if ie in word:\n",
    "                                hasIElement = True\n",
    "                        if hasTwitterElement == False & hasIElement == False:\n",
    "                            #Remove special characters from string\n",
    "                            cleaned_word = \"\"\n",
    "                            cleaned_word = \"\".join(character for character in word if character.isalnum())\n",
    "                            \n",
    "                            if cleaned_word != \"\":\n",
    "                                if cleaned_word == \"\":\n",
    "                                    print(\"cleaned_word\")\n",
    "                                cleaned_word_list.append(cleaned_word)\n",
    "        return cleaned_word_list"
   ]
  },
  {
   "cell_type": "code",
   "execution_count": 22,
   "id": "34d0c5a0",
   "metadata": {
    "scrolled": true
   },
   "outputs": [],
   "source": [
    "#Apply the removeNoiseFromTweet function with axis = 1 --> compute for every row\n",
    "cleaned_words_df = tweets.apply(func=removeNoiseFromTweet, axis=1)"
   ]
  },
  {
   "cell_type": "code",
   "execution_count": 23,
   "id": "1475b80e",
   "metadata": {},
   "outputs": [
    {
     "data": {
      "text/plain": [
       "0        [woman, complain, cleaning, house, amp, man, a...\n",
       "1        [boy, dats, coldtyga, dwn, bad, cuffin, dat, h...\n",
       "2           [dawg, ever, fuck, bitch, cry, confused, shit]\n",
       "3                                     [look, like, tranny]\n",
       "4        [shit, hear, might, true, might, faker, bitch,...\n",
       "                               ...                        \n",
       "24778    [yous, muthafin, lie, right, tl, trash, 8230, ...\n",
       "24779    [gone, broke, wrong, baby, drove, redneck, crazy]\n",
       "24780    [young, buck, wanna, eat, dat, nigguh, like, a...\n",
       "24781             [youu, got, wild, bitches, tellin, lies]\n",
       "24782    [ruffled, ntac, eileen, dahlia, beautiful, col...\n",
       "Length: 24783, dtype: object"
      ]
     },
     "execution_count": 23,
     "metadata": {},
     "output_type": "execute_result"
    }
   ],
   "source": [
    "#Cleaned pandas series element \n",
    "cleaned_words_df"
   ]
  },
  {
   "cell_type": "markdown",
   "id": "e2c2f76e",
   "metadata": {},
   "source": [
    "# Word Stems\n",
    "\n",
    "To ensure high data quality, we should extract the word stems for each word as described above.(e.g. in plot above: bitch/ bitches currently are seperate entities at this point). "
   ]
  },
  {
   "cell_type": "code",
   "execution_count": 24,
   "id": "67daa6f2",
   "metadata": {},
   "outputs": [],
   "source": [
    "#Downloads list with word stems of words in the english language\n",
    "#Remove Comment when running the first time\n",
    "#nltk.download('punkt')"
   ]
  },
  {
   "cell_type": "code",
   "execution_count": 25,
   "id": "f0be8817",
   "metadata": {},
   "outputs": [],
   "source": [
    "stemmer = PorterStemmer()\n",
    "def stemWords(tweet):\n",
    "    word_stems = []\n",
    "    for word in tweet:\n",
    "        \n",
    "        word_stems.append(stemmer.stem(word))\n",
    "        \n",
    "    return word_stems"
   ]
  },
  {
   "cell_type": "code",
   "execution_count": 26,
   "id": "f509c8b3",
   "metadata": {},
   "outputs": [],
   "source": [
    "word_stems = cleaned_words_df.apply(stemWords)"
   ]
  },
  {
   "cell_type": "markdown",
   "id": "fb62bbd0",
   "metadata": {},
   "source": [
    "Words contained in the Tweets now only appear with their word stem. This can be seen in the output below."
   ]
  },
  {
   "cell_type": "code",
   "execution_count": 27,
   "id": "80bb26ef",
   "metadata": {},
   "outputs": [
    {
     "data": {
      "text/plain": [
       "0        [woman, complain, clean, hous, amp, man, alway...\n",
       "1        [boy, dat, coldtyga, dwn, bad, cuffin, dat, ho...\n",
       "2             [dawg, ever, fuck, bitch, cri, confus, shit]\n",
       "3                                     [look, like, tranni]\n",
       "4        [shit, hear, might, true, might, faker, bitch,...\n",
       "                               ...                        \n",
       "24778    [you, muthafin, lie, right, tl, trash, 8230, n...\n",
       "24779    [gone, broke, wrong, babi, drove, redneck, crazi]\n",
       "24780    [young, buck, wanna, eat, dat, nigguh, like, a...\n",
       "24781                [youu, got, wild, bitch, tellin, lie]\n",
       "24782    [ruffl, ntac, eileen, dahlia, beauti, color, c...\n",
       "Length: 24783, dtype: object"
      ]
     },
     "execution_count": 27,
     "metadata": {},
     "output_type": "execute_result"
    }
   ],
   "source": [
    "word_stems"
   ]
  },
  {
   "cell_type": "markdown",
   "id": "2522eca8",
   "metadata": {},
   "source": [
    "To visualise this effect, we again opted to plot the data to see the difference more clearly."
   ]
  },
  {
   "cell_type": "code",
   "execution_count": 28,
   "id": "813bb10c",
   "metadata": {},
   "outputs": [],
   "source": [
    "#Create a list containing all words mentioned in tweets\n",
    "stem_words = list(itertools.chain(*word_stems))"
   ]
  },
  {
   "cell_type": "code",
   "execution_count": 29,
   "id": "ccd62265",
   "metadata": {},
   "outputs": [],
   "source": [
    "# Count of every word\n",
    "word_counts_stem = Counter(stem_words)\n",
    "\n",
    "df_stem = pd.DataFrame(word_counts_stem.most_common(10))\n"
   ]
  },
  {
   "cell_type": "code",
   "execution_count": 30,
   "id": "bdaed42b",
   "metadata": {},
   "outputs": [
    {
     "data": {
      "image/png": "[encoded data removed]",
      "text/plain": [
       "<Figure size 720x360 with 1 Axes>"
      ]
     },
     "metadata": {
      "needs_background": "light"
     },
     "output_type": "display_data"
    }
   ],
   "source": [
    "df_stem.plot(kind = \"area\",\n",
    "             title = \"Most frequent words\", \n",
    "             legend = False,\n",
    "             xlabel = \"Words\",\n",
    "             ylabel = \"Frequency\",\n",
    "             figsize = (10, 5))\n",
    "plt.xticks(range(0,len(df_stem.index)), df_stem[0])\n",
    "plt.show()"
   ]
  },
  {
   "cell_type": "markdown",
   "id": "94ff2984",
   "metadata": {},
   "source": [
    "## Word Count for Hate Speech\n",
    "Here we compare the average length of Hate / Offensive / Neither Tweets to gain further insight of the data. Possibly there are connections between the average length of a Tweet and its type."
   ]
  },
  {
   "cell_type": "code",
   "execution_count": 31,
   "id": "29f8ea5a",
   "metadata": {},
   "outputs": [],
   "source": [
    "index_hate = df[df[\"class\"] == 0][\"tweet\"].index\n",
    "index_offensive = df[df[\"class\"] == 1][\"tweet\"].index\n",
    "index_neither = df[df[\"class\"] == 2][\"tweet\"].index\n",
    "\n",
    "\n",
    "hate_tweets = word_stems.iloc[index_hate]\n",
    "offensive_tweets = word_stems.iloc[index_offensive]\n",
    "neither_tweets = word_stems.iloc[index_neither]"
   ]
  },
  {
   "cell_type": "code",
   "execution_count": 32,
   "id": "c22c06f9",
   "metadata": {},
   "outputs": [],
   "source": [
    "def calculateLength(data):\n",
    "    data_length = len(data)\n",
    "    length_count = 0\n",
    "    for element in data:\n",
    "        length_count = length_count + len(element)\n",
    "        \n",
    "    result = length_count/data_length\n",
    "    return result\n",
    "    \n",
    "length_hate = calculateLength(hate_tweets)\n",
    "length_offensive = calculateLength(offensive_tweets)\n",
    "length_neither = calculateLength(neither_tweets)"
   ]
  },
  {
   "cell_type": "code",
   "execution_count": 33,
   "id": "b2300b3c",
   "metadata": {},
   "outputs": [
    {
     "data": {
      "image/png": "[encoded data removed]",
      "text/plain": [
       "<Figure size 432x288 with 1 Axes>"
      ]
     },
     "metadata": {
      "needs_background": "light"
     },
     "output_type": "display_data"
    }
   ],
   "source": [
    "fig = plt.figure()\n",
    "ax = fig.add_axes([0,0,1,1])\n",
    "categories = [\"Hate\", \"Offensive\", \"Neither\"]\n",
    "length = [length_hate, length_offensive, length_neither]\n",
    "ax.bar(categories,length)\n",
    "\n",
    "plt.show()"
   ]
  },
  {
   "cell_type": "markdown",
   "id": "be090e99",
   "metadata": {},
   "source": [
    "As can be seen in the graph above, the average length of the Tweets from all classes is around 8 words. Thus, according to the Tweets within the data set, their is not connection between the length of a Tweet and its type."
   ]
  },
  {
   "cell_type": "markdown",
   "id": "10d3d3be",
   "metadata": {},
   "source": [
    "# Split data in Train"
   ]
  },
  {
   "cell_type": "code",
   "execution_count": 34,
   "id": "4de3a19b",
   "metadata": {},
   "outputs": [],
   "source": [
    "#change elements of column from list to string\n",
    "def makeString(column):\n",
    "    result = \" \".join(column)\n",
    "    return result"
   ]
  },
  {
   "cell_type": "code",
   "execution_count": 35,
   "id": "7ff9c1aa",
   "metadata": {},
   "outputs": [],
   "source": [
    "word_stems_text = word_stems.apply(makeString)"
   ]
  },
  {
   "cell_type": "code",
   "execution_count": 37,
   "id": "478688cd",
   "metadata": {},
   "outputs": [
    {
     "name": "stdout",
     "output_type": "stream",
     "text": [
      "X_train\n",
      "700           dutch peopl live outsid newyorkc white trash\n",
      "3015                          bitch like it mean someth me\n",
      "9011                  everyon tell exact thing listen coon\n",
      "10395    gotta admit use tell bitch everyth want hear b...\n",
      "8422     charli crist outlaw hate redicul vilifi shake ...\n",
      "                               ...                        \n",
      "9372                               gabbi bitch two account\n",
      "7291                                        dark ie nig ok\n",
      "17728                  cant believ bitch find remot appeal\n",
      "7293     perfect stock photographi let leprechaunlook h...\n",
      "17673    bitch eyebrow 5 hair 95 makeup talkin bout 822...\n",
      "Length: 19826, dtype: object\n",
      "\n",
      "X_test\n",
      "13665                       basic bitch workout planet fit\n",
      "6754     tell fuck stop with 2nd think protocol put 6 s...\n",
      "6417        u go talk shit anoth state that dat pussi shit\n",
      "10324    gave aunt tupac greatest hit cd bitch lucki lo...\n",
      "4265                                      fuck right pussi\n",
      "                               ...                        \n",
      "16550    hate bitch havin big gap boob 128553128514 shi...\n",
      "23400        right fam ju peep ur tlcmon sonlook emh bitch\n",
      "4638                            what youtub channel faggot\n",
      "1001                                  faggot eat pork chop\n",
      "22801                        white trash bash 128540127867\n",
      "Length: 4957, dtype: object\n",
      "\n",
      "y_train\n",
      "700      0\n",
      "3015     1\n",
      "9011     0\n",
      "10395    1\n",
      "8422     2\n",
      "        ..\n",
      "9372     0\n",
      "7291     1\n",
      "17728    1\n",
      "7293     2\n",
      "17673    1\n",
      "Name: class, Length: 19826, dtype: int64\n",
      "\n",
      "y_test\n",
      "13665    1\n",
      "6754     1\n",
      "6417     1\n",
      "10324    1\n",
      "4265     1\n",
      "        ..\n",
      "16550    1\n",
      "23400    1\n",
      "4638     0\n",
      "1001     1\n",
      "22801    1\n",
      "Name: class, Length: 4957, dtype: int64\n"
     ]
    }
   ],
   "source": [
    "#split into train and test set\n",
    "X_train, X_test, y_train, y_test = train_test_split(word_stems_text, df[\"class\"], test_size=0.2, random_state=10)\n",
    "\n",
    "\n",
    "print('X_train')\n",
    "print(X_train.shape)\n",
    "print()\n",
    "print('X_test')\n",
    "print(X_test.shape)\n",
    "print()\n",
    "print('y_train')\n",
    "print(y_train.shape)\n",
    "print()\n",
    "print('y_test')\n",
    "print(y_test.shape)"
   ]
  },
  {
   "cell_type": "code",
   "execution_count": 39,
   "id": "17a5207b",
   "metadata": {},
   "outputs": [
    {
     "name": "stdout",
     "output_type": "stream",
     "text": [
      "[5.77176128 0.42983198 1.99899173]\n"
     ]
    }
   ],
   "source": [
    "custom_weights = class_weight.compute_class_weight(class_weight = 'balanced', classes=np.unique(y_train), y=y_train)\n",
    "print(custom_weights)"
   ]
  },
  {
   "cell_type": "code",
   "execution_count": 33,
   "id": "5dc0ce90",
   "metadata": {},
   "outputs": [
    {
     "name": "stdout",
     "output_type": "stream",
     "text": [
      "{0: 5.771761280931587, 1: 0.4298319783197832, 2: 1.9989917322040733}\n"
     ]
    }
   ],
   "source": [
    "#The following function creates a dictionary with the customized weights.\n",
    "def custom_weights_to_dictionary(weights):\n",
    "    dic = {}\n",
    "    for i in range(len(weights)):\n",
    "        dic[i] = weights[i]\n",
    "    return dic\n",
    "\n",
    "weights = custom_weights_to_dictionary(custom_weights)\n",
    "print(weights)"
   ]
  },
  {
   "cell_type": "markdown",
   "id": "adf8bba4",
   "metadata": {},
   "source": [
    "# Models"
   ]
  },
  {
   "cell_type": "markdown",
   "id": "d2726589",
   "metadata": {},
   "source": [
    "## Logistic Regression"
   ]
  },
  {
   "cell_type": "code",
   "execution_count": 34,
   "id": "0c2c20ee",
   "metadata": {},
   "outputs": [],
   "source": [
    "#Benötigt von Logistic Regression\n",
    "tfid = TfidfVectorizer(lowercase=False)\n",
    "x_train_vec = tfid.fit_transform(X_train)\n",
    "x_test_vec = tfid.transform(X_test)"
   ]
  },
  {
   "cell_type": "code",
   "execution_count": 35,
   "id": "f812a478",
   "metadata": {},
   "outputs": [
    {
     "data": {
      "text/plain": [
       "<19826x17874 sparse matrix of type '<class 'numpy.float64'>'\n",
       "\twith 147811 stored elements in Compressed Sparse Row format>"
      ]
     },
     "execution_count": 35,
     "metadata": {},
     "output_type": "execute_result"
    }
   ],
   "source": [
    "x_train_vec"
   ]
  },
  {
   "cell_type": "code",
   "execution_count": 36,
   "id": "c0f370c0",
   "metadata": {},
   "outputs": [],
   "source": [
    "#When C < 1 --> better results\n",
    "lr = LogisticRegression(solver=\"liblinear\", penalty=\"l2\", C=1)"
   ]
  },
  {
   "cell_type": "code",
   "execution_count": 37,
   "id": "3a53f814",
   "metadata": {},
   "outputs": [
    {
     "data": {
      "text/plain": [
       "LogisticRegression(C=1, solver='liblinear')"
      ]
     },
     "execution_count": 37,
     "metadata": {},
     "output_type": "execute_result"
    }
   ],
   "source": [
    "lr.fit(x_train_vec, y_train)"
   ]
  },
  {
   "cell_type": "code",
   "execution_count": 38,
   "id": "503d1a80",
   "metadata": {},
   "outputs": [],
   "source": [
    "y_predict = lr.predict(x_test_vec)"
   ]
  },
  {
   "cell_type": "code",
   "execution_count": 39,
   "id": "775b4bfd",
   "metadata": {},
   "outputs": [
    {
     "name": "stdout",
     "output_type": "stream",
     "text": [
      "              precision    recall  f1-score   support\n",
      "\n",
      "           0       0.64      0.14      0.23       285\n",
      "           1       0.90      0.98      0.94      3815\n",
      "           2       0.88      0.77      0.82       857\n",
      "\n",
      "    accuracy                           0.89      4957\n",
      "   macro avg       0.81      0.63      0.66      4957\n",
      "weighted avg       0.88      0.89      0.88      4957\n",
      "\n"
     ]
    },
    {
     "data": {
      "text/plain": [
       "<Figure size 216x216 with 0 Axes>"
      ]
     },
     "metadata": {},
     "output_type": "display_data"
    },
    {
     "data": {
      "image/png": "[encoded data removed]",
      "text/plain": [
       "<Figure size 432x288 with 2 Axes>"
      ]
     },
     "metadata": {
      "needs_background": "light"
     },
     "output_type": "display_data"
    }
   ],
   "source": [
    "print(classification_report(y_test, y_predict))\n",
    "\n",
    "labels = [\"Hate\", \"Offensive\", \"Neither\"]\n",
    "cm = confusion_matrix(y_test, y_predict)\n",
    "\n",
    "plt.figure(figsize=(3,3))\n",
    "ConfusionMatrixDisplay(cm, display_labels = labels).plot(cmap='Blues', xticks_rotation=0)\n",
    "plt.grid(False)\n",
    "plt.show()"
   ]
  },
  {
   "cell_type": "markdown",
   "id": "09026653",
   "metadata": {},
   "source": [
    "# Naive Bayes"
   ]
  },
  {
   "cell_type": "code",
   "execution_count": 40,
   "id": "4abdf632",
   "metadata": {},
   "outputs": [],
   "source": [
    "tfid = TfidfVectorizer(lowercase=False)\n",
    "x_train_vec_nn = tfid.fit_transform(X_train)\n",
    "#x_test_vec = tfid.transform(X_test)"
   ]
  },
  {
   "cell_type": "code",
   "execution_count": 41,
   "id": "3b765c80",
   "metadata": {},
   "outputs": [
    {
     "data": {
      "text/plain": [
       "<19826x17874 sparse matrix of type '<class 'numpy.float64'>'\n",
       "\twith 147811 stored elements in Compressed Sparse Row format>"
      ]
     },
     "execution_count": 41,
     "metadata": {},
     "output_type": "execute_result"
    }
   ],
   "source": [
    "x_train_vec_nn"
   ]
  },
  {
   "cell_type": "code",
   "execution_count": 42,
   "id": "eb28b684",
   "metadata": {},
   "outputs": [
    {
     "name": "stderr",
     "output_type": "stream",
     "text": [
      "D:\\Tools\\Anaconda\\envs\\Text Mining\\lib\\site-packages\\sklearn\\naive_bayes.py:508: UserWarning: alpha too small will result in numeric errors, setting alpha = 1.0e-10\n",
      "  warnings.warn('alpha too small will result in numeric errors, '\n"
     ]
    },
    {
     "data": {
      "text/plain": [
       "MultinomialNB(alpha=0)"
      ]
     },
     "execution_count": 42,
     "metadata": {},
     "output_type": "execute_result"
    }
   ],
   "source": [
    "#If fit_prior = False, strong overfitting in class \"Hate\"\n",
    "nb = MultinomialNB(alpha=0, fit_prior=True)\n",
    "nb.fit(x_train_vec_nn, y_train)  "
   ]
  },
  {
   "cell_type": "code",
   "execution_count": 43,
   "id": "9951ca8e",
   "metadata": {},
   "outputs": [],
   "source": [
    "y_predict = nb.predict(x_test_vec)"
   ]
  },
  {
   "cell_type": "code",
   "execution_count": 44,
   "id": "6fc0b481",
   "metadata": {},
   "outputs": [
    {
     "name": "stdout",
     "output_type": "stream",
     "text": [
      "              precision    recall  f1-score   support\n",
      "\n",
      "           0       0.40      0.09      0.15       285\n",
      "           1       0.84      0.95      0.89      3815\n",
      "           2       0.67      0.44      0.53       857\n",
      "\n",
      "    accuracy                           0.81      4957\n",
      "   macro avg       0.64      0.49      0.52      4957\n",
      "weighted avg       0.78      0.81      0.79      4957\n",
      "\n"
     ]
    },
    {
     "data": {
      "text/plain": [
       "<Figure size 216x216 with 0 Axes>"
      ]
     },
     "metadata": {},
     "output_type": "display_data"
    },
    {
     "data": {
      "image/png": "[encoded data removed]",
      "text/plain": [
       "<Figure size 432x288 with 2 Axes>"
      ]
     },
     "metadata": {
      "needs_background": "light"
     },
     "output_type": "display_data"
    }
   ],
   "source": [
    "print(classification_report(y_test,y_predict))\n",
    "cm = confusion_matrix(y_test, y_predict)\n",
    "\n",
    "plt.figure(figsize=(3,3))\n",
    "ConfusionMatrixDisplay(cm, display_labels = labels).plot(cmap='Blues', xticks_rotation=0)\n",
    "plt.grid(False)\n",
    "plt.show()"
   ]
  },
  {
   "cell_type": "markdown",
   "id": "93d39369",
   "metadata": {},
   "source": [
    "## Random Forest"
   ]
  },
  {
   "cell_type": "code",
   "execution_count": 45,
   "id": "3b4fe98c",
   "metadata": {},
   "outputs": [],
   "source": [
    "#If n_esimators higher --> lower recall value for Hate Speech\n",
    "rfc = RandomForestClassifier(n_estimators = 3, criterion=\"gini\", class_weight=weights, n_jobs = 24)\n",
    "\n",
    "rfcModel = rfc.fit(x_train_vec, y_train)"
   ]
  },
  {
   "cell_type": "code",
   "execution_count": 46,
   "id": "c0fe760d",
   "metadata": {},
   "outputs": [
    {
     "name": "stdout",
     "output_type": "stream",
     "text": [
      "              precision    recall  f1-score   support\n",
      "\n",
      "           0       0.35      0.28      0.31       285\n",
      "           1       0.91      0.93      0.92      3815\n",
      "           2       0.81      0.76      0.78       857\n",
      "\n",
      "    accuracy                           0.87      4957\n",
      "   macro avg       0.69      0.66      0.67      4957\n",
      "weighted avg       0.86      0.87      0.86      4957\n",
      "\n"
     ]
    },
    {
     "data": {
      "text/plain": [
       "<Figure size 216x216 with 0 Axes>"
      ]
     },
     "metadata": {},
     "output_type": "display_data"
    },
    {
     "data": {
      "image/png": "[encoded data removed]",
      "text/plain": [
       "<Figure size 432x288 with 2 Axes>"
      ]
     },
     "metadata": {
      "needs_background": "light"
     },
     "output_type": "display_data"
    }
   ],
   "source": [
    "pred = rfcModel.predict(x_test_vec)\n",
    "\n",
    "print(classification_report(y_test, pred))\n",
    "cm = confusion_matrix(y_test, pred)\n",
    "\n",
    "plt.figure(figsize=(3,3))\n",
    "ConfusionMatrixDisplay(cm, display_labels = labels).plot(cmap='Blues', xticks_rotation=0)\n",
    "plt.grid(False)\n",
    "plt.show()"
   ]
  },
  {
   "cell_type": "markdown",
   "id": "2c0f2bc4",
   "metadata": {},
   "source": [
    "# Data for Neural Networks\n",
    "\n",
    "In order to train neural networks, the data format has to be altered."
   ]
  },
  {
   "cell_type": "code",
   "execution_count": 47,
   "id": "ff69cd2b",
   "metadata": {},
   "outputs": [],
   "source": [
    "train_tweet = X_train\n",
    "test_tweet = X_test\n",
    "\n",
    "tokenizer = Tokenizer(lower=False)\n",
    "tokenizer.fit_on_texts(train_tweet)\n",
    "train_tweet = tokenizer.texts_to_sequences(train_tweet)\n",
    "test_tweet = tokenizer.texts_to_sequences(test_tweet)\n",
    "\n",
    "#Not every Tweet has the same legnth. The longest Tweet defines the size of the dataframe. \n",
    "#Every Tweet, which is shorter, gets paddings in the empty cells\n",
    "train_tweet = pad_sequences(train_tweet, maxlen=27)\n",
    "test_tweet = pad_sequences(test_tweet, maxlen=27)"
   ]
  },
  {
   "cell_type": "markdown",
   "id": "355d4f3f",
   "metadata": {},
   "source": [
    "For classification purposes, the target data is refactored: While it previously was a single number (0,1,2), it now is an array with a length of three, where each element represents one class (hate, offensive, neither)."
   ]
  },
  {
   "cell_type": "code",
   "execution_count": 48,
   "id": "24043c6c",
   "metadata": {},
   "outputs": [],
   "source": [
    "encoder = LabelEncoder()\n",
    "\n",
    "y_train_categorical = encoder.fit_transform(y_train)\n",
    "y_train_categorical = to_categorical(y_train) \n",
    "\n",
    "y_test_categorical = encoder.fit_transform(y_test)\n",
    "y_test_categorical = to_categorical(y_test) "
   ]
  },
  {
   "cell_type": "code",
   "execution_count": 49,
   "id": "bebc1c16",
   "metadata": {},
   "outputs": [],
   "source": [
    "epoch = 50\n",
    "earlyStop = tf.keras.callbacks.EarlyStopping(monitor='val_loss', patience=5, restore_best_weights=True)\n",
    "reduceLR = tf.keras.callbacks.ReduceLROnPlateau(monitor='val_loss', patience = 4, factor=0.7)\n",
    "\n",
    "callbacks=[earlyStop]"
   ]
  },
  {
   "cell_type": "markdown",
   "id": "d810dc7d",
   "metadata": {},
   "source": [
    "# Dense Neural Network"
   ]
  },
  {
   "cell_type": "code",
   "execution_count": 50,
   "id": "b29a0cc5",
   "metadata": {},
   "outputs": [
    {
     "name": "stdout",
     "output_type": "stream",
     "text": [
      "Epoch 1/50\n",
      "620/620 [==============================] - 10s 7ms/step - loss: 0.5229 - accuracy: 0.8155 - val_loss: 0.3287 - val_accuracy: 0.8955\n",
      "Epoch 2/50\n",
      "620/620 [==============================] - 4s 7ms/step - loss: 0.2859 - accuracy: 0.9078 - val_loss: 0.2881 - val_accuracy: 0.9007\n",
      "Epoch 3/50\n",
      "620/620 [==============================] - 4s 7ms/step - loss: 0.2307 - accuracy: 0.9210 - val_loss: 0.3011 - val_accuracy: 0.8957\n",
      "Epoch 4/50\n",
      "620/620 [==============================] - 4s 7ms/step - loss: 0.1613 - accuracy: 0.9467 - val_loss: 0.3141 - val_accuracy: 0.8911\n",
      "Epoch 5/50\n",
      "620/620 [==============================] - 4s 7ms/step - loss: 0.1288 - accuracy: 0.9564 - val_loss: 0.4000 - val_accuracy: 0.8886\n",
      "Epoch 6/50\n",
      "620/620 [==============================] - 4s 7ms/step - loss: 0.1042 - accuracy: 0.9637 - val_loss: 0.4448 - val_accuracy: 0.8749\n",
      "Epoch 7/50\n",
      "620/620 [==============================] - 4s 7ms/step - loss: 0.0881 - accuracy: 0.9705 - val_loss: 0.4777 - val_accuracy: 0.8773\n"
     ]
    }
   ],
   "source": [
    "def model_1():\n",
    "    model = Sequential()\n",
    "    model.add(keras.layers.Embedding(input_dim = (len(tokenizer.word_counts) + 1), output_dim = 256, input_length = 27))\n",
    "    model.add(keras.layers.Dropout(0.7))\n",
    "    model.add(keras.layers.Dense(256, activation='relu'))\n",
    "    model.add(keras.layers.Dense(128, activation='relu'))\n",
    "    model.add(keras.layers.Dense(64, activation='relu'))\n",
    "    model.add(keras.layers.Flatten())\n",
    "    model.add(keras.layers.Dense(3, activation='softmax'))\n",
    "    model.compile(loss='categorical_crossentropy', optimizer='adam', metrics=['accuracy'])\n",
    "    return model\n",
    "\n",
    "train_model_1 = model_1()\n",
    "\n",
    "history_model_1 = train_model_1.fit(\n",
    "           train_tweet,\n",
    "           y_train_categorical,\n",
    "           validation_data=(test_tweet,y_test_categorical),\n",
    "           epochs= epoch,\n",
    "           shuffle=True,\n",
    "           callbacks=callbacks)"
   ]
  },
  {
   "cell_type": "markdown",
   "id": "46ab1e58",
   "metadata": {},
   "source": [
    "To extract the class of the prediction values, a function transforms the place of the highest number into an integer value. Example: If the highest number is at the beginning of the prediction array, the following function will return 0 for this instance."
   ]
  },
  {
   "cell_type": "code",
   "execution_count": 51,
   "id": "d3305a0f",
   "metadata": {},
   "outputs": [],
   "source": [
    "predictions = train_model_1.predict(test_tweet)\n",
    "\n",
    "def checkPrediction(pred):\n",
    "    cleaned_prediction = []\n",
    "    biggest_number = 0\n",
    "    to_insert = 0\n",
    "    for element in pred:\n",
    "        for count in range(len(element)):\n",
    "            if element[count] > biggest_number:\n",
    "                biggest_number = element[count]\n",
    "                to_insert = count\n",
    "        biggest_number = 0\n",
    "        cleaned_prediction.append(to_insert)\n",
    "        to_insert = 0\n",
    "    return cleaned_prediction\n",
    "\n",
    "pred_cleaned = checkPrediction(predictions)\n",
    "y_test_cleaned = checkPrediction(y_test_categorical)"
   ]
  },
  {
   "cell_type": "code",
   "execution_count": 52,
   "id": "d75c7589",
   "metadata": {},
   "outputs": [
    {
     "name": "stdout",
     "output_type": "stream",
     "text": [
      "              precision    recall  f1-score   support\n",
      "\n",
      "           0       0.61      0.15      0.24       285\n",
      "           1       0.91      0.97      0.94      3815\n",
      "           2       0.88      0.84      0.86       857\n",
      "\n",
      "    accuracy                           0.90      4957\n",
      "   macro avg       0.80      0.65      0.68      4957\n",
      "weighted avg       0.89      0.90      0.89      4957\n",
      "\n"
     ]
    },
    {
     "data": {
      "text/plain": [
       "<Figure size 216x216 with 0 Axes>"
      ]
     },
     "metadata": {},
     "output_type": "display_data"
    },
    {
     "data": {
      "image/png": "[encoded data removed]",
      "text/plain": [
       "<Figure size 432x288 with 2 Axes>"
      ]
     },
     "metadata": {
      "needs_background": "light"
     },
     "output_type": "display_data"
    }
   ],
   "source": [
    "print(classification_report(y_test_cleaned, pred_cleaned))\n",
    "cm = confusion_matrix(y_test_cleaned, pred_cleaned)\n",
    "\n",
    "plt.figure(figsize=(3,3))\n",
    "ConfusionMatrixDisplay(cm, display_labels = labels).plot(cmap='Blues', xticks_rotation=0)\n",
    "plt.grid(False)\n",
    "plt.show()"
   ]
  },
  {
   "cell_type": "code",
   "execution_count": 53,
   "id": "32279281",
   "metadata": {},
   "outputs": [
    {
     "data": {
      "image/png": "[encoded data removed]",
      "text/plain": [
       "<Figure size 432x288 with 1 Axes>"
      ]
     },
     "metadata": {
      "needs_background": "light"
     },
     "output_type": "display_data"
    },
    {
     "data": {
      "image/png": "[encoded data removed]",
      "text/plain": [
       "<Figure size 432x288 with 1 Axes>"
      ]
     },
     "metadata": {
      "needs_background": "light"
     },
     "output_type": "display_data"
    }
   ],
   "source": [
    "plt.plot(history_model_1.history['loss'])\n",
    "plt.plot(history_model_1.history['val_loss'])\n",
    "plt.title('Model loss')\n",
    "plt.ylabel('Loss')\n",
    "plt.xlabel('Epoch')\n",
    "plt.legend(['Train', 'Val'], loc='upper right')\n",
    "plt.show()\n",
    "\n",
    "plt.plot(history_model_1.history['accuracy'])\n",
    "plt.plot(history_model_1.history['val_accuracy'])\n",
    "plt.title('Model accuracy')\n",
    "plt.ylabel('Accuracy')\n",
    "plt.xlabel('Epoch')\n",
    "plt.legend(['Train', 'Val'], loc='upper right')\n",
    "plt.show()"
   ]
  },
  {
   "cell_type": "markdown",
   "id": "500d2925",
   "metadata": {},
   "source": [
    "# Custom Weights"
   ]
  },
  {
   "cell_type": "code",
   "execution_count": 54,
   "id": "0f214604",
   "metadata": {},
   "outputs": [
    {
     "name": "stdout",
     "output_type": "stream",
     "text": [
      "WARNING:tensorflow:From D:\\Tools\\Anaconda\\envs\\Text Mining\\lib\\site-packages\\tensorflow\\python\\ops\\array_ops.py:5043: calling gather (from tensorflow.python.ops.array_ops) with validate_indices is deprecated and will be removed in a future version.\n",
      "Instructions for updating:\n",
      "The `validate_indices` argument has no effect. Indices are always validated on CPU and never validated on GPU.\n",
      "Epoch 1/50\n",
      "496/496 [==============================] - 5s 8ms/step - loss: 1.0980 - accuracy: 0.4202 - val_loss: 0.7152 - val_accuracy: 0.7857\n",
      "Epoch 2/50\n",
      "496/496 [==============================] - 4s 8ms/step - loss: 0.9000 - accuracy: 0.6302 - val_loss: 0.7274 - val_accuracy: 0.7312\n",
      "Epoch 3/50\n",
      "496/496 [==============================] - 4s 8ms/step - loss: 0.7681 - accuracy: 0.6507 - val_loss: 0.7253 - val_accuracy: 0.7504\n",
      "Epoch 4/50\n",
      "496/496 [==============================] - 4s 8ms/step - loss: 0.5936 - accuracy: 0.7430 - val_loss: 0.5663 - val_accuracy: 0.8061\n",
      "Epoch 5/50\n",
      "496/496 [==============================] - 4s 8ms/step - loss: 0.4692 - accuracy: 0.7960 - val_loss: 0.7579 - val_accuracy: 0.7214\n",
      "Epoch 6/50\n",
      "496/496 [==============================] - 4s 8ms/step - loss: 0.4137 - accuracy: 0.8083 - val_loss: 0.6204 - val_accuracy: 0.7920\n",
      "Epoch 7/50\n",
      "496/496 [==============================] - 4s 7ms/step - loss: 0.4001 - accuracy: 0.8326 - val_loss: 0.6217 - val_accuracy: 0.7963\n",
      "Epoch 8/50\n",
      "496/496 [==============================] - 4s 8ms/step - loss: 0.3317 - accuracy: 0.8590 - val_loss: 0.7017 - val_accuracy: 0.7753\n",
      "Epoch 9/50\n",
      "496/496 [==============================] - 4s 7ms/step - loss: 0.2831 - accuracy: 0.8729 - val_loss: 0.7767 - val_accuracy: 0.7559\n"
     ]
    }
   ],
   "source": [
    "def model_2():\n",
    "    model = Sequential()\n",
    "    model.add(keras.layers.Embedding(input_dim = (len(tokenizer.word_counts) + 1), output_dim = 128, input_length = 27))\n",
    "    model.add(keras.layers.Dense(256, activation='relu'))\n",
    "    model.add(keras.layers.Dropout(0.7))\n",
    "    model.add(keras.layers.Dense(128, activation='relu'))\n",
    "    model.add(keras.layers.Dropout(0.7))\n",
    "    model.add(keras.layers.Dense(64, activation='relu'))\n",
    "    model.add(keras.layers.Flatten())\n",
    "    model.add(keras.layers.Dropout(0.7))\n",
    "    model.add(keras.layers.Dense(3, activation='softmax'))\n",
    "    model.compile(loss='categorical_crossentropy', optimizer='adam', metrics=['accuracy'])\n",
    "    return model\n",
    "\n",
    "train_model_2 = model_2()\n",
    "history_model_2 = train_model_2.fit(\n",
    "                   train_tweet,\n",
    "                   y_train_categorical,\n",
    "                   validation_split=0.2,\n",
    "                   class_weight=weights,\n",
    "                   epochs= epoch,\n",
    "                   shuffle=True,\n",
    "                   callbacks=callbacks)"
   ]
  },
  {
   "cell_type": "code",
   "execution_count": 55,
   "id": "f206a3b0",
   "metadata": {},
   "outputs": [
    {
     "name": "stdout",
     "output_type": "stream",
     "text": [
      "              precision    recall  f1-score   support\n",
      "\n",
      "           0       0.26      0.55      0.36       285\n",
      "           1       0.96      0.80      0.87      3815\n",
      "           2       0.65      0.91      0.76       857\n",
      "\n",
      "    accuracy                           0.80      4957\n",
      "   macro avg       0.62      0.75      0.66      4957\n",
      "weighted avg       0.87      0.80      0.82      4957\n",
      "\n"
     ]
    },
    {
     "data": {
      "text/plain": [
       "<Figure size 216x216 with 0 Axes>"
      ]
     },
     "metadata": {},
     "output_type": "display_data"
    },
    {
     "data": {
      "image/png": "[encoded data removed]",
      "text/plain": [
       "<Figure size 432x288 with 2 Axes>"
      ]
     },
     "metadata": {
      "needs_background": "light"
     },
     "output_type": "display_data"
    }
   ],
   "source": [
    "predictions = train_model_2.predict(test_tweet)\n",
    "\n",
    "pred_cleaned = checkPrediction(predictions)\n",
    "\n",
    "print(classification_report(y_test_cleaned, pred_cleaned))\n",
    "cm = confusion_matrix(y_test_cleaned, pred_cleaned)\n",
    "\n",
    "plt.figure(figsize=(3,3))\n",
    "ConfusionMatrixDisplay(cm, display_labels = labels).plot(cmap='Blues', xticks_rotation=0)\n",
    "plt.grid(False)\n",
    "plt.show()"
   ]
  },
  {
   "cell_type": "code",
   "execution_count": 56,
   "id": "b707d5f6",
   "metadata": {},
   "outputs": [
    {
     "data": {
      "image/png": "[encoded data removed]",
      "text/plain": [
       "<Figure size 432x288 with 1 Axes>"
      ]
     },
     "metadata": {
      "needs_background": "light"
     },
     "output_type": "display_data"
    },
    {
     "data": {
      "image/png": "[encoded data removed]",
      "text/plain": [
       "<Figure size 432x288 with 1 Axes>"
      ]
     },
     "metadata": {
      "needs_background": "light"
     },
     "output_type": "display_data"
    }
   ],
   "source": [
    "plt.plot(history_model_2.history['loss'])\n",
    "plt.plot(history_model_2.history['val_loss'])\n",
    "plt.title('Model loss')\n",
    "plt.ylabel('Loss')\n",
    "plt.xlabel('Epoch')\n",
    "plt.legend(['Train', 'Val'], loc='upper right')\n",
    "plt.show()\n",
    "\n",
    "plt.plot(history_model_2.history['accuracy'])\n",
    "plt.plot(history_model_2.history['val_accuracy'])\n",
    "plt.title('Model accuracy')\n",
    "plt.ylabel('Accuracy')\n",
    "plt.xlabel('Epoch')\n",
    "plt.legend(['Train', 'Val'], loc='upper right')\n",
    "plt.show()"
   ]
  },
  {
   "cell_type": "markdown",
   "id": "e8b7840a",
   "metadata": {},
   "source": [
    "# CNN"
   ]
  },
  {
   "cell_type": "code",
   "execution_count": 57,
   "id": "027e3b4b",
   "metadata": {},
   "outputs": [
    {
     "name": "stdout",
     "output_type": "stream",
     "text": [
      "Epoch 1/50\n",
      "496/496 [==============================] - 15s 7ms/step - loss: 0.9864 - accuracy: 0.5318 - val_loss: 0.5805 - val_accuracy: 0.8250\n",
      "Epoch 2/50\n",
      "496/496 [==============================] - 3s 7ms/step - loss: 0.5034 - accuracy: 0.7897 - val_loss: 0.4485 - val_accuracy: 0.8442\n",
      "Epoch 3/50\n",
      "496/496 [==============================] - 3s 6ms/step - loss: 0.3090 - accuracy: 0.8679 - val_loss: 0.4836 - val_accuracy: 0.8253\n",
      "Epoch 4/50\n",
      "496/496 [==============================] - 3s 6ms/step - loss: 0.2029 - accuracy: 0.9030 - val_loss: 0.5257 - val_accuracy: 0.8177\n",
      "Epoch 5/50\n",
      "496/496 [==============================] - 3s 6ms/step - loss: 0.1521 - accuracy: 0.9276 - val_loss: 0.6689 - val_accuracy: 0.7761\n",
      "Epoch 6/50\n",
      "496/496 [==============================] - 3s 6ms/step - loss: 0.1327 - accuracy: 0.9350 - val_loss: 0.6958 - val_accuracy: 0.8142\n",
      "Epoch 7/50\n",
      "496/496 [==============================] - 3s 6ms/step - loss: 0.1062 - accuracy: 0.9475 - val_loss: 0.7287 - val_accuracy: 0.8346\n"
     ]
    }
   ],
   "source": [
    "def model_3():\n",
    "    model = Sequential()\n",
    "    model.add(keras.layers.Embedding(input_dim = (len(tokenizer.word_counts) + 1), output_dim = 128, input_length = 27))\n",
    "    model.add(keras.layers.Conv1D(128, 5, activation='relu'))\n",
    "    model.add(keras.layers.GlobalAveragePooling1D())\n",
    "    model.add(keras.layers.Dropout(0.7))\n",
    "    model.add(keras.layers.Dense(128, activation='relu'))\n",
    "    model.add(keras.layers.Dense(64, activation='relu'))\n",
    "    model.add(keras.layers.Flatten())\n",
    "    model.add(keras.layers.Dense(3, activation='softmax'))\n",
    "    model.compile(loss='categorical_crossentropy', optimizer='adam', metrics=['accuracy'])\n",
    "    return model\n",
    "\n",
    "train_model_3 = model_3()\n",
    "history_model_3 = train_model_3.fit(\n",
    "                   train_tweet,\n",
    "                   y_train_categorical,\n",
    "                   validation_split=0.2,\n",
    "                   class_weight=weights,\n",
    "                   epochs=epoch,\n",
    "                   shuffle=True,\n",
    "                   callbacks=callbacks)"
   ]
  },
  {
   "cell_type": "code",
   "execution_count": 58,
   "id": "f5e44bff",
   "metadata": {},
   "outputs": [
    {
     "name": "stdout",
     "output_type": "stream",
     "text": [
      "              precision    recall  f1-score   support\n",
      "\n",
      "           0       0.29      0.63      0.40       285\n",
      "           1       0.96      0.86      0.90      3815\n",
      "           2       0.81      0.87      0.84       857\n",
      "\n",
      "    accuracy                           0.85      4957\n",
      "   macro avg       0.68      0.78      0.71      4957\n",
      "weighted avg       0.89      0.85      0.86      4957\n",
      "\n"
     ]
    },
    {
     "data": {
      "text/plain": [
       "<Figure size 216x216 with 0 Axes>"
      ]
     },
     "metadata": {},
     "output_type": "display_data"
    },
    {
     "data": {
      "image/png": "[encoded data removed]",
      "text/plain": [
       "<Figure size 432x288 with 2 Axes>"
      ]
     },
     "metadata": {
      "needs_background": "light"
     },
     "output_type": "display_data"
    }
   ],
   "source": [
    "predictions = train_model_3.predict(test_tweet)\n",
    "\n",
    "pred_cleaned = checkPrediction(predictions)\n",
    "\n",
    "print(classification_report(y_test_cleaned, pred_cleaned))\n",
    "cm = confusion_matrix(y_test_cleaned, pred_cleaned)\n",
    "\n",
    "plt.figure(figsize=(3,3))\n",
    "ConfusionMatrixDisplay(cm, display_labels = labels).plot(cmap='Blues', xticks_rotation=0)\n",
    "plt.grid(False)\n",
    "plt.show()"
   ]
  },
  {
   "cell_type": "code",
   "execution_count": 59,
   "id": "a9a2e745",
   "metadata": {},
   "outputs": [
    {
     "data": {
      "image/png": "[encoded data removed]",
      "text/plain": [
       "<Figure size 432x288 with 1 Axes>"
      ]
     },
     "metadata": {
      "needs_background": "light"
     },
     "output_type": "display_data"
    },
    {
     "data": {
      "image/png": "[encoded data removed]",
      "text/plain": [
       "<Figure size 432x288 with 1 Axes>"
      ]
     },
     "metadata": {
      "needs_background": "light"
     },
     "output_type": "display_data"
    }
   ],
   "source": [
    "plt.plot(history_model_3.history['loss'])\n",
    "plt.plot(history_model_3.history['val_loss'])\n",
    "plt.title('Model loss')\n",
    "plt.ylabel('Loss')\n",
    "plt.xlabel('Epoch')\n",
    "plt.legend(['Train', 'Val'], loc='upper right')\n",
    "plt.show()\n",
    "\n",
    "plt.plot(history_model_3.history['accuracy'])\n",
    "plt.plot(history_model_3.history['val_accuracy'])\n",
    "plt.title('Model accuracy')\n",
    "plt.ylabel('Accuracy')\n",
    "plt.xlabel('Epoch')\n",
    "plt.legend(['Train', 'Val'], loc='upper right')\n",
    "plt.show()"
   ]
  },
  {
   "cell_type": "markdown",
   "id": "6bc2f167",
   "metadata": {},
   "source": [
    "# Dropout Modell"
   ]
  },
  {
   "cell_type": "code",
   "execution_count": 60,
   "id": "d9fba3bb",
   "metadata": {
    "scrolled": false
   },
   "outputs": [
    {
     "name": "stdout",
     "output_type": "stream",
     "text": [
      "Epoch 1/50\n",
      "496/496 [==============================] - 5s 9ms/step - loss: 1.1066 - accuracy: 0.4320 - val_loss: 1.1075 - val_accuracy: 0.0514\n",
      "Epoch 2/50\n",
      "496/496 [==============================] - 4s 8ms/step - loss: 1.0849 - accuracy: 0.4941 - val_loss: 1.0982 - val_accuracy: 0.3021\n",
      "Epoch 3/50\n",
      "496/496 [==============================] - 5s 9ms/step - loss: 1.0092 - accuracy: 0.5857 - val_loss: 0.7740 - val_accuracy: 0.7461\n",
      "Epoch 4/50\n",
      "496/496 [==============================] - 5s 10ms/step - loss: 0.9114 - accuracy: 0.6783 - val_loss: 0.8531 - val_accuracy: 0.7388\n",
      "Epoch 5/50\n",
      "496/496 [==============================] - 5s 10ms/step - loss: 0.8336 - accuracy: 0.6967 - val_loss: 0.7331 - val_accuracy: 0.7761\n",
      "Epoch 6/50\n",
      "496/496 [==============================] - 5s 9ms/step - loss: 0.7774 - accuracy: 0.7030 - val_loss: 0.7217 - val_accuracy: 0.7557\n",
      "Epoch 7/50\n",
      "496/496 [==============================] - 5s 9ms/step - loss: 0.7722 - accuracy: 0.6909 - val_loss: 0.7571 - val_accuracy: 0.7237\n",
      "Epoch 8/50\n",
      "496/496 [==============================] - 5s 10ms/step - loss: 0.6899 - accuracy: 0.7146 - val_loss: 0.7825 - val_accuracy: 0.6344\n",
      "Epoch 9/50\n",
      "496/496 [==============================] - 5s 10ms/step - loss: 0.6942 - accuracy: 0.6953 - val_loss: 0.8003 - val_accuracy: 0.6094\n",
      "Epoch 10/50\n",
      "496/496 [==============================] - 5s 10ms/step - loss: 0.6956 - accuracy: 0.6991 - val_loss: 0.8504 - val_accuracy: 0.5292\n",
      "Epoch 11/50\n",
      "496/496 [==============================] - 4s 8ms/step - loss: 0.6569 - accuracy: 0.6937 - val_loss: 0.9045 - val_accuracy: 0.4362\n"
     ]
    }
   ],
   "source": [
    "def model_dropout():\n",
    "    model = Sequential()\n",
    "    model.add(keras.layers.Embedding(input_dim = (len(tokenizer.word_counts) + 1), output_dim = 128, input_length = 27))\n",
    "    model.add(keras.layers.Dense(256, activation='relu'))\n",
    "    model.add(keras.layers.Dropout(0.7))\n",
    "    model.add(keras.layers.Dense(256, activation='relu'))\n",
    "    model.add(keras.layers.Dropout(0.7))    \n",
    "    model.add(keras.layers.Dense(256, activation='relu'))\n",
    "    model.add(keras.layers.Dropout(0.7)) \n",
    "    model.add(keras.layers.Dense(256, activation='relu'))\n",
    "    model.add(keras.layers.Flatten())\n",
    "    model.add(keras.layers.Dropout(0.7))\n",
    "    model.add(keras.layers.Dense(3, activation='softmax'))\n",
    "    model.compile(loss='categorical_crossentropy', optimizer='Adamax', metrics=['accuracy'])\n",
    "    return model\n",
    "\n",
    "train_model_4 = model_dropout()\n",
    "history_model_4 = train_model_4.fit(\n",
    "                   train_tweet,\n",
    "                   y_train_categorical,\n",
    "                   validation_split=0.2,\n",
    "                   class_weight=weights,\n",
    "                   epochs= epoch,\n",
    "                   shuffle=True,\n",
    "                   callbacks=callbacks)"
   ]
  },
  {
   "cell_type": "code",
   "execution_count": 61,
   "id": "8552cdaf",
   "metadata": {},
   "outputs": [
    {
     "name": "stdout",
     "output_type": "stream",
     "text": [
      "              precision    recall  f1-score   support\n",
      "\n",
      "           0       0.17      0.48      0.25       285\n",
      "           1       0.97      0.73      0.84      3815\n",
      "           2       0.66      0.96      0.78       857\n",
      "\n",
      "    accuracy                           0.76      4957\n",
      "   macro avg       0.60      0.72      0.62      4957\n",
      "weighted avg       0.87      0.76      0.79      4957\n",
      "\n"
     ]
    },
    {
     "data": {
      "text/plain": [
       "<Figure size 216x216 with 0 Axes>"
      ]
     },
     "metadata": {},
     "output_type": "display_data"
    },
    {
     "data": {
      "image/png": "[encoded data removed]",
      "text/plain": [
       "<Figure size 432x288 with 2 Axes>"
      ]
     },
     "metadata": {
      "needs_background": "light"
     },
     "output_type": "display_data"
    }
   ],
   "source": [
    "predictions = train_model_4.predict(test_tweet)\n",
    "\n",
    "pred_cleaned = checkPrediction(predictions)\n",
    "\n",
    "print(classification_report(y_test_cleaned, pred_cleaned))\n",
    "cm = confusion_matrix(y_test_cleaned, pred_cleaned)\n",
    "\n",
    "plt.figure(figsize=(3,3))\n",
    "ConfusionMatrixDisplay(cm, display_labels = labels).plot(cmap='Blues', xticks_rotation=0)\n",
    "plt.grid(False)\n",
    "plt.show()"
   ]
  },
  {
   "cell_type": "code",
   "execution_count": 62,
   "id": "f6676ff6",
   "metadata": {},
   "outputs": [
    {
     "data": {
      "image/png": "[encoded data removed]",
      "text/plain": [
       "<Figure size 432x288 with 1 Axes>"
      ]
     },
     "metadata": {
      "needs_background": "light"
     },
     "output_type": "display_data"
    },
    {
     "data": {
      "image/png": "[encoded data removed]",
      "text/plain": [
       "<Figure size 432x288 with 1 Axes>"
      ]
     },
     "metadata": {
      "needs_background": "light"
     },
     "output_type": "display_data"
    }
   ],
   "source": [
    "plt.plot(history_model_4.history['loss'])\n",
    "plt.plot(history_model_4.history['val_loss'])\n",
    "plt.title('Model loss')\n",
    "plt.ylabel('Loss')\n",
    "plt.xlabel('Epoch')\n",
    "plt.legend(['Train', 'Val'], loc='upper right')\n",
    "plt.show()\n",
    "\n",
    "plt.plot(history_model_4.history['accuracy'])\n",
    "plt.plot(history_model_4.history['val_accuracy'])\n",
    "plt.title('Model accuracy')\n",
    "plt.ylabel('Accuracy')\n",
    "plt.xlabel('Epoch')\n",
    "plt.legend(['Train', 'Val'], loc='upper right')\n",
    "plt.show()"
   ]
  },
  {
   "cell_type": "markdown",
   "id": "d5e14cd7",
   "metadata": {},
   "source": [
    "# Findings"
   ]
  },
  {
   "cell_type": "code",
   "execution_count": 63,
   "id": "04e3d6bf",
   "metadata": {},
   "outputs": [
    {
     "data": {
      "text/plain": [
       "1430"
      ]
     },
     "execution_count": 63,
     "metadata": {},
     "output_type": "execute_result"
    }
   ],
   "source": [
    "len(df[df[\"class\"] == 0])"
   ]
  },
  {
   "cell_type": "code",
   "execution_count": 64,
   "id": "1f45ed1e",
   "metadata": {},
   "outputs": [
    {
     "data": {
      "text/plain": [
       "19190"
      ]
     },
     "execution_count": 64,
     "metadata": {},
     "output_type": "execute_result"
    }
   ],
   "source": [
    "len(df[df[\"class\"] == 1])"
   ]
  },
  {
   "cell_type": "code",
   "execution_count": 65,
   "id": "b9b85f9a",
   "metadata": {},
   "outputs": [
    {
     "data": {
      "text/plain": [
       "4163"
      ]
     },
     "execution_count": 65,
     "metadata": {},
     "output_type": "execute_result"
    }
   ],
   "source": [
    "len(df[df[\"class\"] == 2])"
   ]
  },
  {
   "cell_type": "code",
   "execution_count": 115,
   "id": "b843562a",
   "metadata": {},
   "outputs": [],
   "source": [
    "test = pd.DataFrame([\"damn retarded bastards please die\"])\n",
    "test = pd.DataFrame(test[0].apply(toLowerAndSplit))\n"
   ]
  },
  {
   "cell_type": "code",
   "execution_count": 116,
   "id": "180f6391",
   "metadata": {},
   "outputs": [
    {
     "data": {
      "text/html": [
       "<div>\n",
       "<style scoped>\n",
       "    .dataframe tbody tr th:only-of-type {\n",
       "        vertical-align: middle;\n",
       "    }\n",
       "\n",
       "    .dataframe tbody tr th {\n",
       "        vertical-align: top;\n",
       "    }\n",
       "\n",
       "    .dataframe thead th {\n",
       "        text-align: right;\n",
       "    }\n",
       "</style>\n",
       "<table border=\"1\" class=\"dataframe\">\n",
       "  <thead>\n",
       "    <tr style=\"text-align: right;\">\n",
       "      <th></th>\n",
       "      <th>0</th>\n",
       "    </tr>\n",
       "  </thead>\n",
       "  <tbody>\n",
       "    <tr>\n",
       "      <th>0</th>\n",
       "      <td>[damn, retarded, bastards, please, die]</td>\n",
       "    </tr>\n",
       "  </tbody>\n",
       "</table>\n",
       "</div>"
      ],
      "text/plain": [
       "                                         0\n",
       "0  [damn, retarded, bastards, please, die]"
      ]
     },
     "execution_count": 116,
     "metadata": {},
     "output_type": "execute_result"
    }
   ],
   "source": [
    "test"
   ]
  },
  {
   "cell_type": "code",
   "execution_count": 117,
   "id": "67d66f58",
   "metadata": {},
   "outputs": [],
   "source": [
    "test_1 = test.apply(func=removeNoiseFromTweet, axis=1)"
   ]
  },
  {
   "cell_type": "code",
   "execution_count": 118,
   "id": "587f236e",
   "metadata": {},
   "outputs": [
    {
     "data": {
      "text/plain": [
       "0    [damn, retarded, bastards, please, die]\n",
       "dtype: object"
      ]
     },
     "execution_count": 118,
     "metadata": {},
     "output_type": "execute_result"
    }
   ],
   "source": [
    "test_1"
   ]
  },
  {
   "cell_type": "code",
   "execution_count": 119,
   "id": "24e29325",
   "metadata": {},
   "outputs": [],
   "source": [
    "test_1 = test_1.apply(stemWords)"
   ]
  },
  {
   "cell_type": "code",
   "execution_count": 120,
   "id": "21137e82",
   "metadata": {},
   "outputs": [
    {
     "data": {
      "text/plain": [
       "0    [damn, retard, bastard, pleas, die]\n",
       "dtype: object"
      ]
     },
     "execution_count": 120,
     "metadata": {},
     "output_type": "execute_result"
    }
   ],
   "source": [
    "test_1"
   ]
  },
  {
   "cell_type": "code",
   "execution_count": 111,
   "id": "c3188804",
   "metadata": {},
   "outputs": [],
   "source": [
    "test_1 = tokenizer.texts_to_sequences(test_1)\n",
    "\n",
    "#Not every Tweet has the same legnth. The longest Tweet defines the size of the dataframe. \n",
    "#Every Tweet, which is shorter, gets paddings in the empty cells\n",
    "test_1 = pad_sequences(train_tweet, maxlen=27)"
   ]
  },
  {
   "cell_type": "code",
   "execution_count": 112,
   "id": "87c8ea92",
   "metadata": {},
   "outputs": [],
   "source": [
    "pred_test = train_model_3.predict(test_1)"
   ]
  },
  {
   "cell_type": "code",
   "execution_count": 113,
   "id": "723b9504",
   "metadata": {},
   "outputs": [
    {
     "data": {
      "text/plain": [
       "array([[8.75162005e-01, 1.07522562e-01, 1.73154250e-02],\n",
       "       [2.30916023e-01, 7.63756514e-01, 5.32754883e-03],\n",
       "       [7.77791083e-01, 1.86669812e-01, 3.55390981e-02],\n",
       "       ...,\n",
       "       [1.80566296e-01, 8.11635554e-01, 7.79811246e-03],\n",
       "       [4.68099192e-02, 1.19257264e-01, 8.33932817e-01],\n",
       "       [1.95393134e-02, 9.80327010e-01, 1.33725945e-04]], dtype=float32)"
      ]
     },
     "execution_count": 113,
     "metadata": {},
     "output_type": "execute_result"
    }
   ],
   "source": [
    "pred_test"
   ]
  },
  {
   "cell_type": "code",
   "execution_count": 114,
   "id": "cc3ee9c3",
   "metadata": {},
   "outputs": [
    {
     "data": {
      "text/plain": [
       "19826"
      ]
     },
     "execution_count": 114,
     "metadata": {},
     "output_type": "execute_result"
    }
   ],
   "source": [
    "len(pred_test)"
   ]
  },
  {
   "cell_type": "code",
   "execution_count": null,
   "id": "bf411e16",
   "metadata": {},
   "outputs": [],
   "source": []
  }
 ],
 "metadata": {
  "kernelspec": {
   "display_name": "Python 3",
   "language": "python",
   "name": "python3"
  },
  "language_info": {
   "codemirror_mode": {
    "name": "ipython",
    "version": 3
   },
   "file_extension": ".py",
   "mimetype": "text/x-python",
   "name": "python",
   "nbconvert_exporter": "python",
   "pygments_lexer": "ipython3",
   "version": "3.8.8"
  }
 },
 "nbformat": 4,
 "nbformat_minor": 5
}
