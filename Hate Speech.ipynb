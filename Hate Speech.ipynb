{
 "cells": [
  {
   "cell_type": "code",
   "execution_count": 1,
   "id": "2bb60b9b",
   "metadata": {},
   "outputs": [
    {
     "name": "stdout",
     "output_type": "stream",
     "text": [
      "INFO:tensorflow:Enabling eager execution\n",
      "INFO:tensorflow:Enabling v2 tensorshape\n",
      "INFO:tensorflow:Enabling resource variables\n",
      "INFO:tensorflow:Enabling tensor equality\n",
      "INFO:tensorflow:Enabling control flow v2\n"
     ]
    }
   ],
   "source": [
    "import tensorflow as tf\n",
    "from tensorflow.keras import Sequential\n",
    "from tensorflow import keras\n",
    "\n",
    "from tensorflow.keras.preprocessing.text import Tokenizer\n",
    "\n",
    "\n",
    "#from tensorflow.keras.models import Model\n",
    "#from tensorflow.keras.models import load_model\n",
    "from tensorflow.keras import layers, activations\n",
    "from tensorflow.keras.layers import *\n",
    "from tensorflow.keras.layers.experimental.preprocessing import TextVectorization\n",
    "#from tensorflow.keras.layers import TextVectorization\n",
    "#from tensorflow.keras.optimizers import *\n",
    "\n",
    "import sklearn as sk\n",
    "from sklearn.linear_model import LogisticRegression\n",
    "from sklearn.model_selection import train_test_split\n",
    "from sklearn.feature_extraction.text import TfidfVectorizer\n",
    "from sklearn.feature_extraction.text import CountVectorizer\n",
    "from sklearn.metrics import classification_report, f1_score, accuracy_score, confusion_matrix\n",
    "\n",
    "import nltk\n",
    "from nltk.corpus import stopwords\n",
    "from nltk.stem import PorterStemmer\n",
    "from nltk.tokenize import word_tokenize\n",
    "\n",
    "import itertools\n",
    "from collections import Counter\n",
    "\n",
    "import matplotlib.pyplot as plt\n",
    "import numpy as np\n",
    "import pandas as pd"
   ]
  },
  {
   "cell_type": "markdown",
   "id": "8a297cc6",
   "metadata": {},
   "source": [
    "# Import Data"
   ]
  },
  {
   "cell_type": "code",
   "execution_count": 2,
   "id": "da7513e0",
   "metadata": {},
   "outputs": [],
   "source": [
    "df = pd.read_csv(\"labeled_data.csv\")"
   ]
  },
  {
   "cell_type": "code",
   "execution_count": 3,
   "id": "0e27b177",
   "metadata": {},
   "outputs": [
    {
     "data": {
      "text/html": [
       "<div>\n",
       "<style scoped>\n",
       "    .dataframe tbody tr th:only-of-type {\n",
       "        vertical-align: middle;\n",
       "    }\n",
       "\n",
       "    .dataframe tbody tr th {\n",
       "        vertical-align: top;\n",
       "    }\n",
       "\n",
       "    .dataframe thead th {\n",
       "        text-align: right;\n",
       "    }\n",
       "</style>\n",
       "<table border=\"1\" class=\"dataframe\">\n",
       "  <thead>\n",
       "    <tr style=\"text-align: right;\">\n",
       "      <th></th>\n",
       "      <th>Unnamed: 0</th>\n",
       "      <th>count</th>\n",
       "      <th>hate_speech</th>\n",
       "      <th>offensive_language</th>\n",
       "      <th>neither</th>\n",
       "      <th>class</th>\n",
       "      <th>tweet</th>\n",
       "    </tr>\n",
       "  </thead>\n",
       "  <tbody>\n",
       "    <tr>\n",
       "      <th>0</th>\n",
       "      <td>0</td>\n",
       "      <td>3</td>\n",
       "      <td>0</td>\n",
       "      <td>0</td>\n",
       "      <td>3</td>\n",
       "      <td>2</td>\n",
       "      <td>!!! RT @mayasolovely: As a woman you shouldn't...</td>\n",
       "    </tr>\n",
       "    <tr>\n",
       "      <th>1</th>\n",
       "      <td>1</td>\n",
       "      <td>3</td>\n",
       "      <td>0</td>\n",
       "      <td>3</td>\n",
       "      <td>0</td>\n",
       "      <td>1</td>\n",
       "      <td>!!!!! RT @mleew17: boy dats cold...tyga dwn ba...</td>\n",
       "    </tr>\n",
       "    <tr>\n",
       "      <th>2</th>\n",
       "      <td>2</td>\n",
       "      <td>3</td>\n",
       "      <td>0</td>\n",
       "      <td>3</td>\n",
       "      <td>0</td>\n",
       "      <td>1</td>\n",
       "      <td>!!!!!!! RT @UrKindOfBrand Dawg!!!! RT @80sbaby...</td>\n",
       "    </tr>\n",
       "    <tr>\n",
       "      <th>3</th>\n",
       "      <td>3</td>\n",
       "      <td>3</td>\n",
       "      <td>0</td>\n",
       "      <td>2</td>\n",
       "      <td>1</td>\n",
       "      <td>1</td>\n",
       "      <td>!!!!!!!!! RT @C_G_Anderson: @viva_based she lo...</td>\n",
       "    </tr>\n",
       "    <tr>\n",
       "      <th>4</th>\n",
       "      <td>4</td>\n",
       "      <td>6</td>\n",
       "      <td>0</td>\n",
       "      <td>6</td>\n",
       "      <td>0</td>\n",
       "      <td>1</td>\n",
       "      <td>!!!!!!!!!!!!! RT @ShenikaRoberts: The shit you...</td>\n",
       "    </tr>\n",
       "    <tr>\n",
       "      <th>...</th>\n",
       "      <td>...</td>\n",
       "      <td>...</td>\n",
       "      <td>...</td>\n",
       "      <td>...</td>\n",
       "      <td>...</td>\n",
       "      <td>...</td>\n",
       "      <td>...</td>\n",
       "    </tr>\n",
       "    <tr>\n",
       "      <th>24778</th>\n",
       "      <td>25291</td>\n",
       "      <td>3</td>\n",
       "      <td>0</td>\n",
       "      <td>2</td>\n",
       "      <td>1</td>\n",
       "      <td>1</td>\n",
       "      <td>you's a muthaf***in lie &amp;#8220;@LifeAsKing: @2...</td>\n",
       "    </tr>\n",
       "    <tr>\n",
       "      <th>24779</th>\n",
       "      <td>25292</td>\n",
       "      <td>3</td>\n",
       "      <td>0</td>\n",
       "      <td>1</td>\n",
       "      <td>2</td>\n",
       "      <td>2</td>\n",
       "      <td>you've gone and broke the wrong heart baby, an...</td>\n",
       "    </tr>\n",
       "    <tr>\n",
       "      <th>24780</th>\n",
       "      <td>25294</td>\n",
       "      <td>3</td>\n",
       "      <td>0</td>\n",
       "      <td>3</td>\n",
       "      <td>0</td>\n",
       "      <td>1</td>\n",
       "      <td>young buck wanna eat!!.. dat nigguh like I ain...</td>\n",
       "    </tr>\n",
       "    <tr>\n",
       "      <th>24781</th>\n",
       "      <td>25295</td>\n",
       "      <td>6</td>\n",
       "      <td>0</td>\n",
       "      <td>6</td>\n",
       "      <td>0</td>\n",
       "      <td>1</td>\n",
       "      <td>youu got wild bitches tellin you lies</td>\n",
       "    </tr>\n",
       "    <tr>\n",
       "      <th>24782</th>\n",
       "      <td>25296</td>\n",
       "      <td>3</td>\n",
       "      <td>0</td>\n",
       "      <td>0</td>\n",
       "      <td>3</td>\n",
       "      <td>2</td>\n",
       "      <td>~~Ruffled | Ntac Eileen Dahlia - Beautiful col...</td>\n",
       "    </tr>\n",
       "  </tbody>\n",
       "</table>\n",
       "<p>24783 rows × 7 columns</p>\n",
       "</div>"
      ],
      "text/plain": [
       "       Unnamed: 0  count  hate_speech  offensive_language  neither  class  \\\n",
       "0               0      3            0                   0        3      2   \n",
       "1               1      3            0                   3        0      1   \n",
       "2               2      3            0                   3        0      1   \n",
       "3               3      3            0                   2        1      1   \n",
       "4               4      6            0                   6        0      1   \n",
       "...           ...    ...          ...                 ...      ...    ...   \n",
       "24778       25291      3            0                   2        1      1   \n",
       "24779       25292      3            0                   1        2      2   \n",
       "24780       25294      3            0                   3        0      1   \n",
       "24781       25295      6            0                   6        0      1   \n",
       "24782       25296      3            0                   0        3      2   \n",
       "\n",
       "                                                   tweet  \n",
       "0      !!! RT @mayasolovely: As a woman you shouldn't...  \n",
       "1      !!!!! RT @mleew17: boy dats cold...tyga dwn ba...  \n",
       "2      !!!!!!! RT @UrKindOfBrand Dawg!!!! RT @80sbaby...  \n",
       "3      !!!!!!!!! RT @C_G_Anderson: @viva_based she lo...  \n",
       "4      !!!!!!!!!!!!! RT @ShenikaRoberts: The shit you...  \n",
       "...                                                  ...  \n",
       "24778  you's a muthaf***in lie &#8220;@LifeAsKing: @2...  \n",
       "24779  you've gone and broke the wrong heart baby, an...  \n",
       "24780  young buck wanna eat!!.. dat nigguh like I ain...  \n",
       "24781              youu got wild bitches tellin you lies  \n",
       "24782  ~~Ruffled | Ntac Eileen Dahlia - Beautiful col...  \n",
       "\n",
       "[24783 rows x 7 columns]"
      ]
     },
     "execution_count": 3,
     "metadata": {},
     "output_type": "execute_result"
    }
   ],
   "source": [
    "df"
   ]
  },
  {
   "cell_type": "markdown",
   "id": "e5fea88b",
   "metadata": {},
   "source": [
    "# Tokenizer\n",
    "\n",
    "Tokenize all words contained in the Tweets of the Dataset.\n",
    "\n",
    "The Tweets are stored in the dataframe df (column \"tweet\")"
   ]
  },
  {
   "cell_type": "code",
   "execution_count": 4,
   "id": "e098cbd2",
   "metadata": {},
   "outputs": [],
   "source": [
    "#Split String for each word\n",
    "def toLowerAndSplit(tweet):\n",
    "    tweet = tweet.lower()\n",
    "    tweet = tweet.split()\n",
    "    return tweet"
   ]
  },
  {
   "cell_type": "code",
   "execution_count": 5,
   "id": "fb1c3a46",
   "metadata": {},
   "outputs": [],
   "source": [
    "tweets = pd.DataFrame(df[\"tweet\"].apply(toLowerAndSplit))"
   ]
  },
  {
   "cell_type": "code",
   "execution_count": 6,
   "id": "7658c626",
   "metadata": {},
   "outputs": [
    {
     "data": {
      "text/html": [
       "<div>\n",
       "<style scoped>\n",
       "    .dataframe tbody tr th:only-of-type {\n",
       "        vertical-align: middle;\n",
       "    }\n",
       "\n",
       "    .dataframe tbody tr th {\n",
       "        vertical-align: top;\n",
       "    }\n",
       "\n",
       "    .dataframe thead th {\n",
       "        text-align: right;\n",
       "    }\n",
       "</style>\n",
       "<table border=\"1\" class=\"dataframe\">\n",
       "  <thead>\n",
       "    <tr style=\"text-align: right;\">\n",
       "      <th></th>\n",
       "      <th>tweet</th>\n",
       "    </tr>\n",
       "  </thead>\n",
       "  <tbody>\n",
       "    <tr>\n",
       "      <th>0</th>\n",
       "      <td>[!!!, rt, @mayasolovely:, as, a, woman, you, s...</td>\n",
       "    </tr>\n",
       "    <tr>\n",
       "      <th>1</th>\n",
       "      <td>[!!!!!, rt, @mleew17:, boy, dats, cold...tyga,...</td>\n",
       "    </tr>\n",
       "    <tr>\n",
       "      <th>2</th>\n",
       "      <td>[!!!!!!!, rt, @urkindofbrand, dawg!!!!, rt, @8...</td>\n",
       "    </tr>\n",
       "    <tr>\n",
       "      <th>3</th>\n",
       "      <td>[!!!!!!!!!, rt, @c_g_anderson:, @viva_based, s...</td>\n",
       "    </tr>\n",
       "    <tr>\n",
       "      <th>4</th>\n",
       "      <td>[!!!!!!!!!!!!!, rt, @shenikaroberts:, the, shi...</td>\n",
       "    </tr>\n",
       "    <tr>\n",
       "      <th>...</th>\n",
       "      <td>...</td>\n",
       "    </tr>\n",
       "    <tr>\n",
       "      <th>24778</th>\n",
       "      <td>[you's, a, muthaf***in, lie, &amp;#8220;@lifeaskin...</td>\n",
       "    </tr>\n",
       "    <tr>\n",
       "      <th>24779</th>\n",
       "      <td>[you've, gone, and, broke, the, wrong, heart, ...</td>\n",
       "    </tr>\n",
       "    <tr>\n",
       "      <th>24780</th>\n",
       "      <td>[young, buck, wanna, eat!!.., dat, nigguh, lik...</td>\n",
       "    </tr>\n",
       "    <tr>\n",
       "      <th>24781</th>\n",
       "      <td>[youu, got, wild, bitches, tellin, you, lies]</td>\n",
       "    </tr>\n",
       "    <tr>\n",
       "      <th>24782</th>\n",
       "      <td>[~~ruffled, |, ntac, eileen, dahlia, -, beauti...</td>\n",
       "    </tr>\n",
       "  </tbody>\n",
       "</table>\n",
       "<p>24783 rows × 1 columns</p>\n",
       "</div>"
      ],
      "text/plain": [
       "                                                   tweet\n",
       "0      [!!!, rt, @mayasolovely:, as, a, woman, you, s...\n",
       "1      [!!!!!, rt, @mleew17:, boy, dats, cold...tyga,...\n",
       "2      [!!!!!!!, rt, @urkindofbrand, dawg!!!!, rt, @8...\n",
       "3      [!!!!!!!!!, rt, @c_g_anderson:, @viva_based, s...\n",
       "4      [!!!!!!!!!!!!!, rt, @shenikaroberts:, the, shi...\n",
       "...                                                  ...\n",
       "24778  [you's, a, muthaf***in, lie, &#8220;@lifeaskin...\n",
       "24779  [you've, gone, and, broke, the, wrong, heart, ...\n",
       "24780  [young, buck, wanna, eat!!.., dat, nigguh, lik...\n",
       "24781      [youu, got, wild, bitches, tellin, you, lies]\n",
       "24782  [~~ruffled, |, ntac, eileen, dahlia, -, beauti...\n",
       "\n",
       "[24783 rows x 1 columns]"
      ]
     },
     "execution_count": 6,
     "metadata": {},
     "output_type": "execute_result"
    }
   ],
   "source": [
    "tweets"
   ]
  },
  {
   "cell_type": "code",
   "execution_count": 7,
   "id": "2bbc3168",
   "metadata": {},
   "outputs": [],
   "source": [
    "#Create a list containing all words mentioned in tweets\n",
    "all_words = list(itertools.chain(*tweets[\"tweet\"]))"
   ]
  },
  {
   "cell_type": "markdown",
   "id": "9f606844",
   "metadata": {},
   "source": [
    "## Count Words"
   ]
  },
  {
   "cell_type": "code",
   "execution_count": 8,
   "id": "b40780e1",
   "metadata": {},
   "outputs": [],
   "source": [
    "# Count of every word\n",
    "word_counts = Counter(all_words)\n",
    "\n",
    "df_uncleaned = pd.DataFrame(word_counts.most_common(10))\n"
   ]
  },
  {
   "cell_type": "code",
   "execution_count": 9,
   "id": "7b97686a",
   "metadata": {},
   "outputs": [
    {
     "data": {
      "image/png": "[encoded data removed]",
      "text/plain": [
       "<Figure size 720x360 with 1 Axes>"
      ]
     },
     "metadata": {
      "needs_background": "light"
     },
     "output_type": "display_data"
    }
   ],
   "source": [
    "df_uncleaned.plot(kind = \"area\",\n",
    "             title = \"Most frequent words\", \n",
    "             legend = False,\n",
    "             xlabel = \"Words\",\n",
    "             ylabel = \"Frequency\",\n",
    "             figsize = (10, 5))\n",
    "plt.xticks(range(0,len(df_uncleaned.index)), df_uncleaned[0])\n",
    "plt.show()"
   ]
  },
  {
   "cell_type": "markdown",
   "id": "a9bca8e7",
   "metadata": {},
   "source": [
    "## Remove stopwords\n",
    "\n",
    "To gain more substantial insight into the data, stopwords such as \"i\", \"a\", \"at\", \"the\" have to be removed. These words construct the grammatical dependencies of the english language, but do not contain any relevant information to determine hate speech.\n",
    "\n",
    "## Remove Tags\n",
    "\n",
    "Twitter tags such as @genericUser do not give further insight for hate speech detection purposes. Thus, they have to be removed.\n",
    "\n",
    "## Remove Links\n",
    "\n",
    "Similar to stopwords and Tags, links do not add meaningfull information to the purpose of hate speech --> remove"
   ]
  },
  {
   "cell_type": "markdown",
   "id": "3346333b",
   "metadata": {},
   "source": [
    "## Remove Twitter Elements\n",
    "\n",
    "The Tweets can contain Twitter excluvsive information, such as \"rt\", \"rts\" or \"retweet\". These formulations do not add any meaning to the Tweets content and have therefore to be removed."
   ]
  },
  {
   "cell_type": "code",
   "execution_count": 10,
   "id": "c0edd957",
   "metadata": {},
   "outputs": [],
   "source": [
    "#Uncomment if nltk stopwords were not downloaded yet\n",
    "#nltk.download('stopwords')"
   ]
  },
  {
   "cell_type": "code",
   "execution_count": 11,
   "id": "1a0a0e4d",
   "metadata": {},
   "outputs": [],
   "source": [
    "#Define variable wit henglish stopwords\n",
    "sw = stopwords.words(\"english\")\n",
    "twitter_elements = [\"rt\", \"rts\", \"retweet\"]\n",
    "most_common = word_counts.most_common()\n",
    "\n",
    "\n",
    "\n",
    "def removeNoiseWordCount(word_list):\n",
    "    cleaned_word_list = []\n",
    "    for element in word_list:\n",
    "        #Removes words contained in stopwords\n",
    "        if element[0] not in sw:\n",
    "            #Removes words with @ --> remove Tags\n",
    "            if \"@\" not in element[0]: \n",
    "                #Removes words containing http --> links\n",
    "                if \"http\" not in element[0]:\n",
    "                    hasTwitterElement = False\n",
    "                    for tw in twitter_elements:\n",
    "                        if tw in element:\n",
    "                            hasTwitterElement = True\n",
    "                    if hasTwitterElement == False:\n",
    "                        cleaned_word_list.append(element)\n",
    "\n",
    "    return cleaned_word_list"
   ]
  },
  {
   "cell_type": "code",
   "execution_count": 12,
   "id": "1bf68b49",
   "metadata": {},
   "outputs": [],
   "source": [
    "cleaned_word_list_complete = removeNoiseWordCount(most_common)"
   ]
  },
  {
   "cell_type": "code",
   "execution_count": 13,
   "id": "5a05a439",
   "metadata": {},
   "outputs": [],
   "source": [
    "df_cleaned_top10 = pd.DataFrame(cleaned_word_list_complete[:10])"
   ]
  },
  {
   "cell_type": "code",
   "execution_count": 14,
   "id": "4a695985",
   "metadata": {},
   "outputs": [
    {
     "data": {
      "text/html": [
       "<div>\n",
       "<style scoped>\n",
       "    .dataframe tbody tr th:only-of-type {\n",
       "        vertical-align: middle;\n",
       "    }\n",
       "\n",
       "    .dataframe tbody tr th {\n",
       "        vertical-align: top;\n",
       "    }\n",
       "\n",
       "    .dataframe thead th {\n",
       "        text-align: right;\n",
       "    }\n",
       "</style>\n",
       "<table border=\"1\" class=\"dataframe\">\n",
       "  <thead>\n",
       "    <tr style=\"text-align: right;\">\n",
       "      <th></th>\n",
       "      <th>0</th>\n",
       "      <th>1</th>\n",
       "    </tr>\n",
       "  </thead>\n",
       "  <tbody>\n",
       "    <tr>\n",
       "      <th>0</th>\n",
       "      <td>bitch</td>\n",
       "      <td>6749</td>\n",
       "    </tr>\n",
       "    <tr>\n",
       "      <th>1</th>\n",
       "      <td>bitches</td>\n",
       "      <td>2677</td>\n",
       "    </tr>\n",
       "    <tr>\n",
       "      <th>2</th>\n",
       "      <td>like</td>\n",
       "      <td>2674</td>\n",
       "    </tr>\n",
       "    <tr>\n",
       "      <th>3</th>\n",
       "      <td>hoes</td>\n",
       "      <td>1977</td>\n",
       "    </tr>\n",
       "    <tr>\n",
       "      <th>4</th>\n",
       "      <td>pussy</td>\n",
       "      <td>1731</td>\n",
       "    </tr>\n",
       "    <tr>\n",
       "      <th>5</th>\n",
       "      <td>i'm</td>\n",
       "      <td>1552</td>\n",
       "    </tr>\n",
       "    <tr>\n",
       "      <th>6</th>\n",
       "      <td>hoe</td>\n",
       "      <td>1483</td>\n",
       "    </tr>\n",
       "    <tr>\n",
       "      <th>7</th>\n",
       "      <td>ass</td>\n",
       "      <td>1472</td>\n",
       "    </tr>\n",
       "    <tr>\n",
       "      <th>8</th>\n",
       "      <td>get</td>\n",
       "      <td>1413</td>\n",
       "    </tr>\n",
       "    <tr>\n",
       "      <th>9</th>\n",
       "      <td>fuck</td>\n",
       "      <td>1311</td>\n",
       "    </tr>\n",
       "  </tbody>\n",
       "</table>\n",
       "</div>"
      ],
      "text/plain": [
       "         0     1\n",
       "0    bitch  6749\n",
       "1  bitches  2677\n",
       "2     like  2674\n",
       "3     hoes  1977\n",
       "4    pussy  1731\n",
       "5      i'm  1552\n",
       "6      hoe  1483\n",
       "7      ass  1472\n",
       "8      get  1413\n",
       "9     fuck  1311"
      ]
     },
     "execution_count": 14,
     "metadata": {},
     "output_type": "execute_result"
    }
   ],
   "source": [
    "df_cleaned_top10"
   ]
  },
  {
   "cell_type": "code",
   "execution_count": 15,
   "id": "6473db7a",
   "metadata": {},
   "outputs": [
    {
     "data": {
      "image/png": "[encoded data removed]",
      "text/plain": [
       "<Figure size 720x360 with 1 Axes>"
      ]
     },
     "metadata": {
      "needs_background": "light"
     },
     "output_type": "display_data"
    }
   ],
   "source": [
    "df_cleaned_top10.plot(kind = \"area\",\n",
    "             title = \"Most frequent words\", \n",
    "             legend = False,\n",
    "             xlabel = \"Words\",\n",
    "             ylabel = \"Frequency\",\n",
    "             figsize = (10, 5))\n",
    "plt.xticks(range(0,len(df_cleaned_top10.index)), df_cleaned_top10[0])\n",
    "plt.show()"
   ]
  },
  {
   "cell_type": "code",
   "execution_count": 47,
   "id": "a565c0a9",
   "metadata": {},
   "outputs": [],
   "source": [
    "def removeNoiseFromTweet(word_list):\n",
    "    cleaned_word_list = []\n",
    "    for element in word_list:\n",
    "        for word in element:\n",
    "            #Removes words contained in stopwords\n",
    "            if word not in sw:\n",
    "                #Removes words with @ --> remove Tags\n",
    "                if \"@\" not in word: \n",
    "                    #Removes words containing http --> links\n",
    "                    if \"http\" not in word:\n",
    "                        hasTwitterElement = False\n",
    "                        #Removes Twitter exclusive Words (retweet/ rt...) \n",
    "                        for tw in twitter_elements:\n",
    "                            if tw in word:\n",
    "                                hasTwitterElement = True\n",
    "                        if hasTwitterElement == False:\n",
    "                            #Remove special characters from string\n",
    "                            cleaned_word = \"\"\n",
    "                            cleaned_word = \"\".join(character for character in word if character.isalnum())\n",
    "                            if cleaned_word != \"\":\n",
    "                                cleaned_word_list.append(cleaned_word)\n",
    "        return cleaned_word_list"
   ]
  },
  {
   "cell_type": "code",
   "execution_count": 48,
   "id": "b2a98027",
   "metadata": {},
   "outputs": [],
   "source": [
    "#Apply the removeNoiseFromTweet function with axis = 1 --> compute for every row\n",
    "cleaned_words_df = tweets.apply(func=removeNoiseFromTweet, axis=1)"
   ]
  },
  {
   "cell_type": "code",
   "execution_count": 49,
   "id": "2de180b8",
   "metadata": {},
   "outputs": [
    {
     "data": {
      "text/plain": [
       "0        [woman, complain, cleaning, house, amp, man, a...\n",
       "1        [boy, dats, coldtyga, dwn, bad, cuffin, dat, h...\n",
       "2           [dawg, ever, fuck, bitch, cry, confused, shit]\n",
       "3                                     [look, like, tranny]\n",
       "4        [shit, hear, might, true, might, faker, bitch,...\n",
       "                               ...                        \n",
       "24778    [yous, muthafin, lie, right, tl, trash, 8230, ...\n",
       "24779    [gone, broke, wrong, baby, drove, redneck, crazy]\n",
       "24780    [young, buck, wanna, eat, dat, nigguh, like, a...\n",
       "24781             [youu, got, wild, bitches, tellin, lies]\n",
       "24782    [ruffled, ntac, eileen, dahlia, beautiful, col...\n",
       "Length: 24783, dtype: object"
      ]
     },
     "execution_count": 49,
     "metadata": {},
     "output_type": "execute_result"
    }
   ],
   "source": [
    "#Cleaned pandas series element \n",
    "cleaned_words_df"
   ]
  },
  {
   "cell_type": "markdown",
   "id": "6ebec480",
   "metadata": {},
   "source": [
    "# Word Stems\n",
    "\n",
    "To further ensure high data quality, we should remove plural words from the pool (e.g. in plot above: bitch/ bitches currently are seperate entities at this point). "
   ]
  },
  {
   "cell_type": "code",
   "execution_count": 19,
   "id": "280b1bbf",
   "metadata": {},
   "outputs": [],
   "source": [
    "#Remove Comment when running the first time\n",
    "#nltk.download('punkt')"
   ]
  },
  {
   "cell_type": "code",
   "execution_count": 20,
   "id": "0944d0a7",
   "metadata": {},
   "outputs": [],
   "source": [
    "stemmer = PorterStemmer()\n",
    "def stemWords(tweet):\n",
    "    word_stems = []\n",
    "    for word in tweet:\n",
    "        \n",
    "        word_stems.append(stemmer.stem(word))\n",
    "        \n",
    "    return word_stems"
   ]
  },
  {
   "cell_type": "code",
   "execution_count": 21,
   "id": "c7672030",
   "metadata": {},
   "outputs": [],
   "source": [
    "word_stems = cleaned_words_df.apply(stemWords)"
   ]
  },
  {
   "cell_type": "code",
   "execution_count": 22,
   "id": "19afadfd",
   "metadata": {},
   "outputs": [
    {
     "data": {
      "text/plain": [
       "0        [woman, complain, clean, hous, amp, man, alway...\n",
       "1        [boy, dat, coldtyga, dwn, bad, cuffin, dat, ho...\n",
       "2             [dawg, ever, fuck, bitch, cri, confus, shit]\n",
       "3                                     [look, like, tranni]\n",
       "4        [shit, hear, might, true, might, faker, bitch,...\n",
       "                               ...                        \n",
       "24778    [you, muthafin, lie, right, tl, trash, 8230, n...\n",
       "24779    [gone, broke, wrong, babi, drove, redneck, crazi]\n",
       "24780    [young, buck, wanna, eat, dat, nigguh, like, a...\n",
       "24781                [youu, got, wild, bitch, tellin, lie]\n",
       "24782    [ruffl, ntac, eileen, dahlia, beauti, color, c...\n",
       "Length: 24783, dtype: object"
      ]
     },
     "execution_count": 22,
     "metadata": {},
     "output_type": "execute_result"
    }
   ],
   "source": [
    "word_stems"
   ]
  },
  {
   "cell_type": "code",
   "execution_count": 23,
   "id": "4e3712c5",
   "metadata": {},
   "outputs": [],
   "source": [
    "#Create a list containing all words mentioned in tweets\n",
    "stem_words = list(itertools.chain(*word_stems))"
   ]
  },
  {
   "cell_type": "code",
   "execution_count": 24,
   "id": "b8e578c4",
   "metadata": {},
   "outputs": [],
   "source": [
    "# Count of every word\n",
    "word_counts_stem = Counter(stem_words)\n",
    "\n",
    "df_stem = pd.DataFrame(word_counts_stem.most_common(10))\n"
   ]
  },
  {
   "cell_type": "code",
   "execution_count": 25,
   "id": "90d4de44",
   "metadata": {},
   "outputs": [
    {
     "data": {
      "image/png": "[encoded data removed]",
      "text/plain": [
       "<Figure size 720x360 with 1 Axes>"
      ]
     },
     "metadata": {
      "needs_background": "light"
     },
     "output_type": "display_data"
    }
   ],
   "source": [
    "df_stem.plot(kind = \"area\",\n",
    "             title = \"Most frequent words\", \n",
    "             legend = False,\n",
    "             xlabel = \"Words\",\n",
    "             ylabel = \"Frequency\",\n",
    "             figsize = (10, 5))\n",
    "plt.xticks(range(0,len(df_stem.index)), df_stem[0])\n",
    "plt.show()"
   ]
  },
  {
   "cell_type": "markdown",
   "id": "92b3cddc",
   "metadata": {},
   "source": [
    "## Model Training"
   ]
  },
  {
   "cell_type": "code",
   "execution_count": 26,
   "id": "854ed078",
   "metadata": {},
   "outputs": [],
   "source": [
    "#change elements of column from list to string\n",
    "def makeString(column):\n",
    "    result = \" \".join(column)\n",
    "    return result"
   ]
  },
  {
   "cell_type": "code",
   "execution_count": 27,
   "id": "01683463",
   "metadata": {},
   "outputs": [],
   "source": [
    "word_stems_text = word_stems.apply(makeString)"
   ]
  },
  {
   "cell_type": "code",
   "execution_count": 28,
   "id": "0a5f6b99",
   "metadata": {},
   "outputs": [],
   "source": [
    "#split into train and test set\n",
    "X_train, X_test, y_train, y_test = train_test_split(word_stems_text, df[\"class\"], test_size=0.2, shuffle=True, random_state=10)"
   ]
  },
  {
   "cell_type": "code",
   "execution_count": 29,
   "id": "4e9526f9",
   "metadata": {},
   "outputs": [],
   "source": [
    "#x_train_tok = [nltk.word_tokenize(i) for i in X_train]\n",
    "#x_test_tok = [nltk.word_tokenize(i) for i in X_test]"
   ]
  },
  {
   "cell_type": "code",
   "execution_count": 30,
   "id": "c2556c75",
   "metadata": {},
   "outputs": [
    {
     "data": {
      "text/plain": [
       "700           dutch peopl live outsid newyorkc white trash\n",
       "3015                          bitch like it mean someth me\n",
       "9011                  everyon tell exact thing listen coon\n",
       "10395    gotta admit use tell bitch everyth want hear b...\n",
       "8422     charli crist outlaw hate redicul vilifi shake ...\n",
       "                               ...                        \n",
       "9372                               gabbi bitch two account\n",
       "7291                                        dark ie nig ok\n",
       "17728                  cant believ bitch find remot appeal\n",
       "7293     perfect stock photographi let leprechaunlook h...\n",
       "17673    bitch eyebrow 5 hair 95 makeup talkin bout 822...\n",
       "Length: 19826, dtype: object"
      ]
     },
     "execution_count": 30,
     "metadata": {},
     "output_type": "execute_result"
    }
   ],
   "source": [
    "X_train"
   ]
  },
  {
   "cell_type": "code",
   "execution_count": 31,
   "id": "a67d92c1",
   "metadata": {},
   "outputs": [],
   "source": [
    "#Benötigt von Logistic Regression\n",
    "tfid = TfidfVectorizer(lowercase=False)\n",
    "x_train_vec = tfid.fit_transform(X_train)\n",
    "x_test_vec = tfid.transform(X_test)"
   ]
  },
  {
   "cell_type": "code",
   "execution_count": 32,
   "id": "d1d1cc85",
   "metadata": {},
   "outputs": [
    {
     "data": {
      "text/plain": [
       "<19826x17874 sparse matrix of type '<class 'numpy.float64'>'\n",
       "\twith 147811 stored elements in Compressed Sparse Row format>"
      ]
     },
     "execution_count": 32,
     "metadata": {},
     "output_type": "execute_result"
    }
   ],
   "source": [
    "x_train_vec"
   ]
  },
  {
   "cell_type": "code",
   "execution_count": 33,
   "id": "fe9f1dcd",
   "metadata": {},
   "outputs": [],
   "source": [
    "#When C < 1 --> better results\n",
    "lr = LogisticRegression(solver=\"liblinear\", penalty=\"l2\", C=1)"
   ]
  },
  {
   "cell_type": "code",
   "execution_count": 34,
   "id": "1de317a0",
   "metadata": {},
   "outputs": [
    {
     "data": {
      "text/plain": [
       "LogisticRegression(C=1, solver='liblinear')"
      ]
     },
     "execution_count": 34,
     "metadata": {},
     "output_type": "execute_result"
    }
   ],
   "source": [
    "lr.fit(x_train_vec, y_train)"
   ]
  },
  {
   "cell_type": "code",
   "execution_count": 35,
   "id": "97f52b82",
   "metadata": {},
   "outputs": [],
   "source": [
    "y_predict = lr.predict(x_test_vec)"
   ]
  },
  {
   "cell_type": "code",
   "execution_count": 36,
   "id": "1d1f94fb",
   "metadata": {},
   "outputs": [],
   "source": [
    "y_prob = lr.predict_proba(x_test_vec)[:,1]"
   ]
  },
  {
   "cell_type": "code",
   "execution_count": 37,
   "id": "850848e5",
   "metadata": {},
   "outputs": [
    {
     "name": "stdout",
     "output_type": "stream",
     "text": [
      "              precision    recall  f1-score   support\n",
      "\n",
      "           0       0.64      0.14      0.23       285\n",
      "           1       0.90      0.98      0.94      3815\n",
      "           2       0.88      0.77      0.82       857\n",
      "\n",
      "    accuracy                           0.89      4957\n",
      "   macro avg       0.81      0.63      0.66      4957\n",
      "weighted avg       0.88      0.89      0.88      4957\n",
      "\n",
      "[[  39  219   27]\n",
      " [  21 3731   63]\n",
      " [   1  198  658]]\n"
     ]
    }
   ],
   "source": [
    "print(classification_report(y_test, y_predict))\n",
    "print(confusion_matrix(y_test, y_predict))"
   ]
  },
  {
   "cell_type": "markdown",
   "id": "47b83821",
   "metadata": {},
   "source": [
    "# Rumprobieren"
   ]
  },
  {
   "cell_type": "code",
   "execution_count": 50,
   "id": "0a92a9f0",
   "metadata": {},
   "outputs": [],
   "source": [
    "vectorize_layer = TextVectorization(\n",
    " max_tokens=None,\n",
    " output_mode='int',\n",
    " output_sequence_length=100)"
   ]
  },
  {
   "cell_type": "code",
   "execution_count": 73,
   "id": "f0072e37",
   "metadata": {},
   "outputs": [],
   "source": [
    "inputs = tf.keras.Input(shape=(1,), dtype=tf.string, name='text')\n",
    "\n",
    "# Next, we add a layer to map those vocab indices into a space of dimensionality\n",
    "# 'embedding_dim'.\n",
    "x = vectorize_layer(inputs)\n",
    "x = layers.Embedding(1, 1)(x)\n",
    "#x = layers.Conv2D(filters=32, kernel_size=(5, 5))(x)\n",
    "\n",
    "x = layers.Dropout(0.5)(x)\n",
    "\n",
    "x = layers.Dense(5)(x)\n",
    "x = layers.Dense(5)(x)\n",
    "x = layers.Dense(5)(x)\n",
    "\n",
    "\n",
    "\n",
    "# We project onto a single unit output layer, and squash it with a sigmoid:\n",
    "predictions = layers.Dense(1, activation=\"sigmoid\", name=\"predictions\")(x)\n",
    "\n",
    "model = tf.keras.Model(inputs, predictions)\n",
    "\n",
    "# Compile the model with binary crossentropy loss and an adam optimizer.\n",
    "model.compile(loss=\"Huber\", optimizer=\"adam\", metrics=[\"accuracy\"])"
   ]
  },
  {
   "cell_type": "code",
   "execution_count": 74,
   "id": "8dd755c8",
   "metadata": {},
   "outputs": [
    {
     "name": "stdout",
     "output_type": "stream",
     "text": [
      "Epoch 1/30\n",
      "620/620 [==============================] - 7s 10ms/step - loss: 0.1640 - accuracy: 0.7545\n",
      "Epoch 2/30\n",
      "620/620 [==============================] - 6s 10ms/step - loss: 0.1151 - accuracy: 0.7702\n",
      "Epoch 3/30\n",
      "620/620 [==============================] - 6s 10ms/step - loss: 0.1100 - accuracy: 0.7800\n",
      "Epoch 4/30\n",
      "620/620 [==============================] - 6s 9ms/step - loss: 0.1089 - accuracy: 0.7822\n",
      "Epoch 5/30\n",
      "620/620 [==============================] - 6s 9ms/step - loss: 0.1139 - accuracy: 0.7722\n",
      "Epoch 6/30\n",
      "620/620 [==============================] - 6s 9ms/step - loss: 0.1123 - accuracy: 0.7754\n",
      "Epoch 7/30\n",
      "620/620 [==============================] - 6s 10ms/step - loss: 0.1128 - accuracy: 0.7743\n",
      "Epoch 8/30\n",
      "620/620 [==============================] - 5s 7ms/step - loss: 0.1144 - accuracy: 0.7713\n",
      "Epoch 9/30\n",
      "620/620 [==============================] - 5s 9ms/step - loss: 0.1125 - accuracy: 0.7750\n",
      "Epoch 10/30\n",
      "620/620 [==============================] - 6s 9ms/step - loss: 0.1119 - accuracy: 0.7762\n",
      "Epoch 11/30\n",
      "620/620 [==============================] - 6s 10ms/step - loss: 0.1153 - accuracy: 0.7694\n",
      "Epoch 12/30\n",
      "620/620 [==============================] - 6s 10ms/step - loss: 0.1116 - accuracy: 0.7768\n",
      "Epoch 13/30\n",
      "620/620 [==============================] - 6s 10ms/step - loss: 0.1122 - accuracy: 0.7757\n",
      "Epoch 14/30\n",
      "620/620 [==============================] - 6s 10ms/step - loss: 0.1129 - accuracy: 0.7743\n",
      "Epoch 15/30\n",
      "620/620 [==============================] - 6s 10ms/step - loss: 0.1125 - accuracy: 0.7751\n",
      "Epoch 16/30\n",
      "620/620 [==============================] - 6s 10ms/step - loss: 0.1113 - accuracy: 0.7775\n",
      "Epoch 17/30\n",
      "620/620 [==============================] - 5s 8ms/step - loss: 0.1113 - accuracy: 0.7775\n",
      "Epoch 18/30\n",
      "620/620 [==============================] - 5s 8ms/step - loss: 0.1100 - accuracy: 0.7800\n",
      "Epoch 19/30\n",
      "620/620 [==============================] - 5s 8ms/step - loss: 0.1113 - accuracy: 0.7774\n",
      "Epoch 20/30\n",
      "620/620 [==============================] - 6s 9ms/step - loss: 0.1101 - accuracy: 0.7797\n",
      "Epoch 21/30\n",
      "620/620 [==============================] - 5s 9ms/step - loss: 0.1122 - accuracy: 0.7756\n",
      "Epoch 22/30\n",
      "620/620 [==============================] - 6s 10ms/step - loss: 0.1117 - accuracy: 0.7766\n",
      "Epoch 23/30\n",
      "620/620 [==============================] - 6s 10ms/step - loss: 0.1130 - accuracy: 0.7740\n",
      "Epoch 24/30\n",
      "620/620 [==============================] - 6s 10ms/step - loss: 0.1107 - accuracy: 0.7786\n",
      "Epoch 25/30\n",
      "620/620 [==============================] - 6s 9ms/step - loss: 0.1110 - accuracy: 0.7780\n",
      "Epoch 26/30\n",
      "620/620 [==============================] - 5s 9ms/step - loss: 0.1138 - accuracy: 0.7724\n",
      "Epoch 27/30\n",
      "620/620 [==============================] - 6s 9ms/step - loss: 0.1148 - accuracy: 0.7704\n",
      "Epoch 28/30\n",
      "620/620 [==============================] - 6s 9ms/step - loss: 0.1109 - accuracy: 0.7782\n",
      "Epoch 29/30\n",
      "620/620 [==============================] - 5s 8ms/step - loss: 0.1109 - accuracy: 0.7782\n",
      "Epoch 30/30\n",
      "620/620 [==============================] - 5s 8ms/step - loss: 0.1118 - accuracy: 0.7765\n"
     ]
    },
    {
     "data": {
      "text/plain": [
       "<tensorflow.python.keras.callbacks.History at 0x266b2ed9700>"
      ]
     },
     "execution_count": 74,
     "metadata": {},
     "output_type": "execute_result"
    }
   ],
   "source": [
    "model.fit(X_train,\n",
    "          y_train, \n",
    "          epochs=30)"
   ]
  },
  {
   "cell_type": "code",
   "execution_count": null,
   "id": "d6920149",
   "metadata": {},
   "outputs": [],
   "source": [
    "df_2"
   ]
  },
  {
   "cell_type": "code",
   "execution_count": null,
   "id": "be097ae2",
   "metadata": {},
   "outputs": [],
   "source": [
    "np.asarray(c)"
   ]
  },
  {
   "cell_type": "code",
   "execution_count": null,
   "id": "f89894ee",
   "metadata": {},
   "outputs": [],
   "source": [
    "c"
   ]
  },
  {
   "cell_type": "code",
   "execution_count": null,
   "id": "6f46b762",
   "metadata": {},
   "outputs": [],
   "source": []
  }
 ],
 "metadata": {
  "kernelspec": {
   "display_name": "Python 3",
   "language": "python",
   "name": "python3"
  },
  "language_info": {
   "codemirror_mode": {
    "name": "ipython",
    "version": 3
   },
   "file_extension": ".py",
   "mimetype": "text/x-python",
   "name": "python",
   "nbconvert_exporter": "python",
   "pygments_lexer": "ipython3",
   "version": "3.9.4"
  }
 },
 "nbformat": 4,
 "nbformat_minor": 5
}
