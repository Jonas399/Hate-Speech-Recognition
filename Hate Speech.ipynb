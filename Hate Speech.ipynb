{
 "cells": [
  {
   "cell_type": "code",
   "execution_count": 1,
   "id": "2bb60b9b",
   "metadata": {},
   "outputs": [
    {
     "name": "stdout",
     "output_type": "stream",
     "text": [
      "INFO:tensorflow:Enabling eager execution\n",
      "INFO:tensorflow:Enabling v2 tensorshape\n",
      "INFO:tensorflow:Enabling resource variables\n",
      "INFO:tensorflow:Enabling tensor equality\n",
      "INFO:tensorflow:Enabling control flow v2\n"
     ]
    }
   ],
   "source": [
    "import tensorflow as tf\n",
    "from tensorflow.keras import Sequential\n",
    "from tensorflow import keras\n",
    "\n",
    "from tensorflow.keras.preprocessing.text import Tokenizer\n",
    "#from tensorflow.keras.models import Model\n",
    "#from tensorflow.keras.models import load_model\n",
    "#from tensorflow.keras import layers, activations\n",
    "#from tensorflow.keras.layers import *\n",
    "#from tensorflow.keras.optimizers import *\n",
    "import nltk\n",
    "from nltk.corpus import stopwords\n",
    "\n",
    "import itertools\n",
    "from collections import Counter\n",
    "\n",
    "import matplotlib.pyplot as plt\n",
    "import numpy as np\n",
    "import pandas as pd"
   ]
  },
  {
   "cell_type": "markdown",
   "id": "8a297cc6",
   "metadata": {},
   "source": [
    "# Import Data"
   ]
  },
  {
   "cell_type": "code",
   "execution_count": 2,
   "id": "da7513e0",
   "metadata": {},
   "outputs": [],
   "source": [
    "df = pd.read_csv(\"labeled_data.csv\")"
   ]
  },
  {
   "cell_type": "code",
   "execution_count": 3,
   "id": "0e27b177",
   "metadata": {},
   "outputs": [
    {
     "data": {
      "text/html": [
       "<div>\n",
       "<style scoped>\n",
       "    .dataframe tbody tr th:only-of-type {\n",
       "        vertical-align: middle;\n",
       "    }\n",
       "\n",
       "    .dataframe tbody tr th {\n",
       "        vertical-align: top;\n",
       "    }\n",
       "\n",
       "    .dataframe thead th {\n",
       "        text-align: right;\n",
       "    }\n",
       "</style>\n",
       "<table border=\"1\" class=\"dataframe\">\n",
       "  <thead>\n",
       "    <tr style=\"text-align: right;\">\n",
       "      <th></th>\n",
       "      <th>Unnamed: 0</th>\n",
       "      <th>count</th>\n",
       "      <th>hate_speech</th>\n",
       "      <th>offensive_language</th>\n",
       "      <th>neither</th>\n",
       "      <th>class</th>\n",
       "      <th>tweet</th>\n",
       "    </tr>\n",
       "  </thead>\n",
       "  <tbody>\n",
       "    <tr>\n",
       "      <th>0</th>\n",
       "      <td>0</td>\n",
       "      <td>3</td>\n",
       "      <td>0</td>\n",
       "      <td>0</td>\n",
       "      <td>3</td>\n",
       "      <td>2</td>\n",
       "      <td>!!! RT @mayasolovely: As a woman you shouldn't...</td>\n",
       "    </tr>\n",
       "    <tr>\n",
       "      <th>1</th>\n",
       "      <td>1</td>\n",
       "      <td>3</td>\n",
       "      <td>0</td>\n",
       "      <td>3</td>\n",
       "      <td>0</td>\n",
       "      <td>1</td>\n",
       "      <td>!!!!! RT @mleew17: boy dats cold...tyga dwn ba...</td>\n",
       "    </tr>\n",
       "    <tr>\n",
       "      <th>2</th>\n",
       "      <td>2</td>\n",
       "      <td>3</td>\n",
       "      <td>0</td>\n",
       "      <td>3</td>\n",
       "      <td>0</td>\n",
       "      <td>1</td>\n",
       "      <td>!!!!!!! RT @UrKindOfBrand Dawg!!!! RT @80sbaby...</td>\n",
       "    </tr>\n",
       "    <tr>\n",
       "      <th>3</th>\n",
       "      <td>3</td>\n",
       "      <td>3</td>\n",
       "      <td>0</td>\n",
       "      <td>2</td>\n",
       "      <td>1</td>\n",
       "      <td>1</td>\n",
       "      <td>!!!!!!!!! RT @C_G_Anderson: @viva_based she lo...</td>\n",
       "    </tr>\n",
       "    <tr>\n",
       "      <th>4</th>\n",
       "      <td>4</td>\n",
       "      <td>6</td>\n",
       "      <td>0</td>\n",
       "      <td>6</td>\n",
       "      <td>0</td>\n",
       "      <td>1</td>\n",
       "      <td>!!!!!!!!!!!!! RT @ShenikaRoberts: The shit you...</td>\n",
       "    </tr>\n",
       "    <tr>\n",
       "      <th>...</th>\n",
       "      <td>...</td>\n",
       "      <td>...</td>\n",
       "      <td>...</td>\n",
       "      <td>...</td>\n",
       "      <td>...</td>\n",
       "      <td>...</td>\n",
       "      <td>...</td>\n",
       "    </tr>\n",
       "    <tr>\n",
       "      <th>24778</th>\n",
       "      <td>25291</td>\n",
       "      <td>3</td>\n",
       "      <td>0</td>\n",
       "      <td>2</td>\n",
       "      <td>1</td>\n",
       "      <td>1</td>\n",
       "      <td>you's a muthaf***in lie &amp;#8220;@LifeAsKing: @2...</td>\n",
       "    </tr>\n",
       "    <tr>\n",
       "      <th>24779</th>\n",
       "      <td>25292</td>\n",
       "      <td>3</td>\n",
       "      <td>0</td>\n",
       "      <td>1</td>\n",
       "      <td>2</td>\n",
       "      <td>2</td>\n",
       "      <td>you've gone and broke the wrong heart baby, an...</td>\n",
       "    </tr>\n",
       "    <tr>\n",
       "      <th>24780</th>\n",
       "      <td>25294</td>\n",
       "      <td>3</td>\n",
       "      <td>0</td>\n",
       "      <td>3</td>\n",
       "      <td>0</td>\n",
       "      <td>1</td>\n",
       "      <td>young buck wanna eat!!.. dat nigguh like I ain...</td>\n",
       "    </tr>\n",
       "    <tr>\n",
       "      <th>24781</th>\n",
       "      <td>25295</td>\n",
       "      <td>6</td>\n",
       "      <td>0</td>\n",
       "      <td>6</td>\n",
       "      <td>0</td>\n",
       "      <td>1</td>\n",
       "      <td>youu got wild bitches tellin you lies</td>\n",
       "    </tr>\n",
       "    <tr>\n",
       "      <th>24782</th>\n",
       "      <td>25296</td>\n",
       "      <td>3</td>\n",
       "      <td>0</td>\n",
       "      <td>0</td>\n",
       "      <td>3</td>\n",
       "      <td>2</td>\n",
       "      <td>~~Ruffled | Ntac Eileen Dahlia - Beautiful col...</td>\n",
       "    </tr>\n",
       "  </tbody>\n",
       "</table>\n",
       "<p>24783 rows × 7 columns</p>\n",
       "</div>"
      ],
      "text/plain": [
       "       Unnamed: 0  count  hate_speech  offensive_language  neither  class  \\\n",
       "0               0      3            0                   0        3      2   \n",
       "1               1      3            0                   3        0      1   \n",
       "2               2      3            0                   3        0      1   \n",
       "3               3      3            0                   2        1      1   \n",
       "4               4      6            0                   6        0      1   \n",
       "...           ...    ...          ...                 ...      ...    ...   \n",
       "24778       25291      3            0                   2        1      1   \n",
       "24779       25292      3            0                   1        2      2   \n",
       "24780       25294      3            0                   3        0      1   \n",
       "24781       25295      6            0                   6        0      1   \n",
       "24782       25296      3            0                   0        3      2   \n",
       "\n",
       "                                                   tweet  \n",
       "0      !!! RT @mayasolovely: As a woman you shouldn't...  \n",
       "1      !!!!! RT @mleew17: boy dats cold...tyga dwn ba...  \n",
       "2      !!!!!!! RT @UrKindOfBrand Dawg!!!! RT @80sbaby...  \n",
       "3      !!!!!!!!! RT @C_G_Anderson: @viva_based she lo...  \n",
       "4      !!!!!!!!!!!!! RT @ShenikaRoberts: The shit you...  \n",
       "...                                                  ...  \n",
       "24778  you's a muthaf***in lie &#8220;@LifeAsKing: @2...  \n",
       "24779  you've gone and broke the wrong heart baby, an...  \n",
       "24780  young buck wanna eat!!.. dat nigguh like I ain...  \n",
       "24781              youu got wild bitches tellin you lies  \n",
       "24782  ~~Ruffled | Ntac Eileen Dahlia - Beautiful col...  \n",
       "\n",
       "[24783 rows x 7 columns]"
      ]
     },
     "execution_count": 3,
     "metadata": {},
     "output_type": "execute_result"
    }
   ],
   "source": [
    "df"
   ]
  },
  {
   "cell_type": "markdown",
   "id": "e5fea88b",
   "metadata": {},
   "source": [
    "# Tokenizer\n",
    "\n",
    "Tokenize all words contained in the Tweets of the Dataset.\n",
    "\n",
    "The Tweets are stored in the dataframe df (column \"tweet\")"
   ]
  },
  {
   "cell_type": "code",
   "execution_count": 4,
   "id": "e098cbd2",
   "metadata": {},
   "outputs": [],
   "source": [
    "#Split String for each word\n",
    "def toLowerAndSplit(tweet):\n",
    "    tweet = tweet.lower()\n",
    "    tweet = tweet.split()\n",
    "    return tweet"
   ]
  },
  {
   "cell_type": "code",
   "execution_count": 5,
   "id": "fb1c3a46",
   "metadata": {},
   "outputs": [],
   "source": [
    "tweets = pd.DataFrame(df[\"tweet\"].apply(toLowerAndSplit))"
   ]
  },
  {
   "cell_type": "code",
   "execution_count": 6,
   "id": "7658c626",
   "metadata": {},
   "outputs": [
    {
     "data": {
      "text/html": [
       "<div>\n",
       "<style scoped>\n",
       "    .dataframe tbody tr th:only-of-type {\n",
       "        vertical-align: middle;\n",
       "    }\n",
       "\n",
       "    .dataframe tbody tr th {\n",
       "        vertical-align: top;\n",
       "    }\n",
       "\n",
       "    .dataframe thead th {\n",
       "        text-align: right;\n",
       "    }\n",
       "</style>\n",
       "<table border=\"1\" class=\"dataframe\">\n",
       "  <thead>\n",
       "    <tr style=\"text-align: right;\">\n",
       "      <th></th>\n",
       "      <th>tweet</th>\n",
       "    </tr>\n",
       "  </thead>\n",
       "  <tbody>\n",
       "    <tr>\n",
       "      <th>0</th>\n",
       "      <td>[!!!, rt, @mayasolovely:, as, a, woman, you, s...</td>\n",
       "    </tr>\n",
       "    <tr>\n",
       "      <th>1</th>\n",
       "      <td>[!!!!!, rt, @mleew17:, boy, dats, cold...tyga,...</td>\n",
       "    </tr>\n",
       "    <tr>\n",
       "      <th>2</th>\n",
       "      <td>[!!!!!!!, rt, @urkindofbrand, dawg!!!!, rt, @8...</td>\n",
       "    </tr>\n",
       "    <tr>\n",
       "      <th>3</th>\n",
       "      <td>[!!!!!!!!!, rt, @c_g_anderson:, @viva_based, s...</td>\n",
       "    </tr>\n",
       "    <tr>\n",
       "      <th>4</th>\n",
       "      <td>[!!!!!!!!!!!!!, rt, @shenikaroberts:, the, shi...</td>\n",
       "    </tr>\n",
       "    <tr>\n",
       "      <th>...</th>\n",
       "      <td>...</td>\n",
       "    </tr>\n",
       "    <tr>\n",
       "      <th>24778</th>\n",
       "      <td>[you's, a, muthaf***in, lie, &amp;#8220;@lifeaskin...</td>\n",
       "    </tr>\n",
       "    <tr>\n",
       "      <th>24779</th>\n",
       "      <td>[you've, gone, and, broke, the, wrong, heart, ...</td>\n",
       "    </tr>\n",
       "    <tr>\n",
       "      <th>24780</th>\n",
       "      <td>[young, buck, wanna, eat!!.., dat, nigguh, lik...</td>\n",
       "    </tr>\n",
       "    <tr>\n",
       "      <th>24781</th>\n",
       "      <td>[youu, got, wild, bitches, tellin, you, lies]</td>\n",
       "    </tr>\n",
       "    <tr>\n",
       "      <th>24782</th>\n",
       "      <td>[~~ruffled, |, ntac, eileen, dahlia, -, beauti...</td>\n",
       "    </tr>\n",
       "  </tbody>\n",
       "</table>\n",
       "<p>24783 rows × 1 columns</p>\n",
       "</div>"
      ],
      "text/plain": [
       "                                                   tweet\n",
       "0      [!!!, rt, @mayasolovely:, as, a, woman, you, s...\n",
       "1      [!!!!!, rt, @mleew17:, boy, dats, cold...tyga,...\n",
       "2      [!!!!!!!, rt, @urkindofbrand, dawg!!!!, rt, @8...\n",
       "3      [!!!!!!!!!, rt, @c_g_anderson:, @viva_based, s...\n",
       "4      [!!!!!!!!!!!!!, rt, @shenikaroberts:, the, shi...\n",
       "...                                                  ...\n",
       "24778  [you's, a, muthaf***in, lie, &#8220;@lifeaskin...\n",
       "24779  [you've, gone, and, broke, the, wrong, heart, ...\n",
       "24780  [young, buck, wanna, eat!!.., dat, nigguh, lik...\n",
       "24781      [youu, got, wild, bitches, tellin, you, lies]\n",
       "24782  [~~ruffled, |, ntac, eileen, dahlia, -, beauti...\n",
       "\n",
       "[24783 rows x 1 columns]"
      ]
     },
     "execution_count": 6,
     "metadata": {},
     "output_type": "execute_result"
    }
   ],
   "source": [
    "tweets"
   ]
  },
  {
   "cell_type": "code",
   "execution_count": 7,
   "id": "2bbc3168",
   "metadata": {},
   "outputs": [],
   "source": [
    "#Create a list containing all words mentioned in tweets\n",
    "all_words = list(itertools.chain(*tweets[\"tweet\"]))"
   ]
  },
  {
   "cell_type": "markdown",
   "id": "9f606844",
   "metadata": {},
   "source": [
    "## Count Words"
   ]
  },
  {
   "cell_type": "code",
   "execution_count": 8,
   "id": "b40780e1",
   "metadata": {},
   "outputs": [],
   "source": [
    "# Count of every word\n",
    "word_counts = Counter(all_words)\n",
    "\n",
    "df_uncleaned = pd.DataFrame(word_counts.most_common(10))\n"
   ]
  },
  {
   "cell_type": "code",
   "execution_count": 9,
   "id": "7b97686a",
   "metadata": {},
   "outputs": [
    {
     "data": {
      "image/png": "[encoded data removed]",
      "text/plain": [
       "<Figure size 720x360 with 1 Axes>"
      ]
     },
     "metadata": {
      "needs_background": "light"
     },
     "output_type": "display_data"
    }
   ],
   "source": [
    "df_uncleaned.plot(kind = \"area\",\n",
    "             title = \"Most frequent words\", \n",
    "             legend = False,\n",
    "             xlabel = \"Words\",\n",
    "             ylabel = \"Frequency\",\n",
    "             figsize = (10, 5))\n",
    "plt.xticks(range(0,len(df_uncleaned.index)), df_uncleaned[0])\n",
    "plt.show()"
   ]
  },
  {
   "cell_type": "code",
   "execution_count": 10,
   "id": "0868dc29",
   "metadata": {},
   "outputs": [],
   "source": [
    "#tokenizer = Tokenizer(num_words = -1)\n",
    "#tokenizer.fit_on_texts(df[\"tweet\"])"
   ]
  },
  {
   "cell_type": "code",
   "execution_count": 11,
   "id": "78512e13",
   "metadata": {},
   "outputs": [],
   "source": [
    "#word_index = tokenizer.word_index"
   ]
  },
  {
   "cell_type": "code",
   "execution_count": 12,
   "id": "71fb694a",
   "metadata": {},
   "outputs": [],
   "source": [
    "#print(word_index)"
   ]
  },
  {
   "cell_type": "markdown",
   "id": "a9bca8e7",
   "metadata": {},
   "source": [
    "## Remove stopwords\n",
    "\n",
    "To gain more substantial insight into the data, stopwords such as \"i\", \"a\", \"at\", \"the\" have to be removed. These words construct the grammatical dependencies of the english language, but do not contain any relevant information to determine hate speech.\n",
    "\n",
    "## Remove Tags\n",
    "\n",
    "Twitter tags such as @genericUser do not give further insight for hate speech detection purposes. Thus, they have to be removed.\n",
    "\n",
    "## Remove Links\n",
    "\n",
    "Similar to stopwords and Tags, links do not add meaningfull information to the purpose of hate speech --> remove"
   ]
  },
  {
   "cell_type": "code",
   "execution_count": 13,
   "id": "c0edd957",
   "metadata": {},
   "outputs": [],
   "source": [
    "#Uncomment if nltk stopwords were not downloaded yet\n",
    "#nltk.download('stopwords')"
   ]
  },
  {
   "cell_type": "code",
   "execution_count": 14,
   "id": "1a0a0e4d",
   "metadata": {},
   "outputs": [],
   "source": [
    "#Define variable wit henglish stopwords\n",
    "sw = stopwords.words(\"english\")\n",
    "twitter_elements = [\"rt\", \"rts\", \"retweet\"]\n",
    "most_common = word_counts.most_common()\n",
    "\n",
    "\n",
    "\n",
    "def removeNoise(word_list):\n",
    "    cleaned_word_list = []\n",
    "    for element in word_list:\n",
    "        #Removes words contained in stopwords\n",
    "        if element[0] not in sw:\n",
    "            #Removes words with @ --> remove Tags\n",
    "            if \"@\" not in element[0]: \n",
    "                #Removes words containing http --> links\n",
    "                if \"http\" not in element[0]:\n",
    "                    hasTwitterElement = False\n",
    "                    for tw in twitter_elements:\n",
    "                        if tw in element:\n",
    "                            hasTwitterElement = True\n",
    "                    if hasTwitterElement == False:\n",
    "                        cleaned_word_list.append(element)\n",
    "\n",
    "    return cleaned_word_list"
   ]
  },
  {
   "cell_type": "code",
   "execution_count": 15,
   "id": "1bf68b49",
   "metadata": {},
   "outputs": [],
   "source": [
    "cleaned_word_list_complete = removeNoise(most_common)"
   ]
  },
  {
   "cell_type": "code",
   "execution_count": 16,
   "id": "5a05a439",
   "metadata": {},
   "outputs": [],
   "source": [
    "df_cleaned_top10 = pd.DataFrame(cleaned_word_list_complete[:10])"
   ]
  },
  {
   "cell_type": "code",
   "execution_count": 17,
   "id": "4a695985",
   "metadata": {},
   "outputs": [
    {
     "data": {
      "text/html": [
       "<div>\n",
       "<style scoped>\n",
       "    .dataframe tbody tr th:only-of-type {\n",
       "        vertical-align: middle;\n",
       "    }\n",
       "\n",
       "    .dataframe tbody tr th {\n",
       "        vertical-align: top;\n",
       "    }\n",
       "\n",
       "    .dataframe thead th {\n",
       "        text-align: right;\n",
       "    }\n",
       "</style>\n",
       "<table border=\"1\" class=\"dataframe\">\n",
       "  <thead>\n",
       "    <tr style=\"text-align: right;\">\n",
       "      <th></th>\n",
       "      <th>0</th>\n",
       "      <th>1</th>\n",
       "    </tr>\n",
       "  </thead>\n",
       "  <tbody>\n",
       "    <tr>\n",
       "      <th>0</th>\n",
       "      <td>bitch</td>\n",
       "      <td>6749</td>\n",
       "    </tr>\n",
       "    <tr>\n",
       "      <th>1</th>\n",
       "      <td>bitches</td>\n",
       "      <td>2677</td>\n",
       "    </tr>\n",
       "    <tr>\n",
       "      <th>2</th>\n",
       "      <td>like</td>\n",
       "      <td>2674</td>\n",
       "    </tr>\n",
       "    <tr>\n",
       "      <th>3</th>\n",
       "      <td>hoes</td>\n",
       "      <td>1977</td>\n",
       "    </tr>\n",
       "    <tr>\n",
       "      <th>4</th>\n",
       "      <td>pussy</td>\n",
       "      <td>1731</td>\n",
       "    </tr>\n",
       "    <tr>\n",
       "      <th>5</th>\n",
       "      <td>i'm</td>\n",
       "      <td>1552</td>\n",
       "    </tr>\n",
       "    <tr>\n",
       "      <th>6</th>\n",
       "      <td>hoe</td>\n",
       "      <td>1483</td>\n",
       "    </tr>\n",
       "    <tr>\n",
       "      <th>7</th>\n",
       "      <td>ass</td>\n",
       "      <td>1472</td>\n",
       "    </tr>\n",
       "    <tr>\n",
       "      <th>8</th>\n",
       "      <td>get</td>\n",
       "      <td>1413</td>\n",
       "    </tr>\n",
       "    <tr>\n",
       "      <th>9</th>\n",
       "      <td>fuck</td>\n",
       "      <td>1311</td>\n",
       "    </tr>\n",
       "  </tbody>\n",
       "</table>\n",
       "</div>"
      ],
      "text/plain": [
       "         0     1\n",
       "0    bitch  6749\n",
       "1  bitches  2677\n",
       "2     like  2674\n",
       "3     hoes  1977\n",
       "4    pussy  1731\n",
       "5      i'm  1552\n",
       "6      hoe  1483\n",
       "7      ass  1472\n",
       "8      get  1413\n",
       "9     fuck  1311"
      ]
     },
     "execution_count": 17,
     "metadata": {},
     "output_type": "execute_result"
    }
   ],
   "source": [
    "df_cleaned_top10"
   ]
  },
  {
   "cell_type": "code",
   "execution_count": 18,
   "id": "6473db7a",
   "metadata": {},
   "outputs": [
    {
     "data": {
      "image/png": "[encoded data removed]",
      "text/plain": [
       "<Figure size 720x360 with 1 Axes>"
      ]
     },
     "metadata": {
      "needs_background": "light"
     },
     "output_type": "display_data"
    }
   ],
   "source": [
    "df_cleaned_top10.plot(kind = \"area\",\n",
    "             title = \"Most frequent words\", \n",
    "             legend = False,\n",
    "             xlabel = \"Words\",\n",
    "             ylabel = \"Frequency\",\n",
    "             figsize = (10, 5))\n",
    "plt.xticks(range(0,len(df_cleaned_top10.index)), df_cleaned_top10[0])\n",
    "plt.show()"
   ]
  },
  {
   "cell_type": "markdown",
   "id": "6ebec480",
   "metadata": {},
   "source": [
    "# Additional Tasks\n",
    "\n",
    "To further ensure high data quality, we should remove plural words from the pool (e.g. in plot above: bitch/ bitches currently are seperate entities at this point). Furthermore, we should remove twitter specific text such as \"rt\" for retweet. While words like \"i\" were removed, words like \"i'm\" are still present --> remove"
   ]
  },
  {
   "cell_type": "code",
   "execution_count": 19,
   "id": "b2a98027",
   "metadata": {},
   "outputs": [],
   "source": [
    "cleaned_words_df = tweets.apply(func=removeNoise, axis=1)"
   ]
  },
  {
   "cell_type": "code",
   "execution_count": 20,
   "id": "2de180b8",
   "metadata": {},
   "outputs": [
    {
     "data": {
      "text/plain": [
       "0                                                       []\n",
       "1                                                       []\n",
       "2                                                       []\n",
       "3                                                       []\n",
       "4                                                       []\n",
       "                               ...                        \n",
       "24778    [[you's, a, muthaf***in, lie, &#8220;@lifeaski...\n",
       "24779                                                   []\n",
       "24780    [[young, buck, wanna, eat!!.., dat, nigguh, li...\n",
       "24781      [[youu, got, wild, bitches, tellin, you, lies]]\n",
       "24782    [[~~ruffled, |, ntac, eileen, dahlia, -, beaut...\n",
       "Length: 24783, dtype: object"
      ]
     },
     "execution_count": 20,
     "metadata": {},
     "output_type": "execute_result"
    }
   ],
   "source": [
    "cleaned_words_df"
   ]
  },
  {
   "cell_type": "code",
   "execution_count": 21,
   "id": "197bacc0",
   "metadata": {},
   "outputs": [
    {
     "data": {
      "text/html": [
       "<div>\n",
       "<style scoped>\n",
       "    .dataframe tbody tr th:only-of-type {\n",
       "        vertical-align: middle;\n",
       "    }\n",
       "\n",
       "    .dataframe tbody tr th {\n",
       "        vertical-align: top;\n",
       "    }\n",
       "\n",
       "    .dataframe thead th {\n",
       "        text-align: right;\n",
       "    }\n",
       "</style>\n",
       "<table border=\"1\" class=\"dataframe\">\n",
       "  <thead>\n",
       "    <tr style=\"text-align: right;\">\n",
       "      <th></th>\n",
       "      <th>tweet</th>\n",
       "    </tr>\n",
       "  </thead>\n",
       "  <tbody>\n",
       "    <tr>\n",
       "      <th>0</th>\n",
       "      <td>[!!!, rt, @mayasolovely:, as, a, woman, you, s...</td>\n",
       "    </tr>\n",
       "    <tr>\n",
       "      <th>1</th>\n",
       "      <td>[!!!!!, rt, @mleew17:, boy, dats, cold...tyga,...</td>\n",
       "    </tr>\n",
       "    <tr>\n",
       "      <th>2</th>\n",
       "      <td>[!!!!!!!, rt, @urkindofbrand, dawg!!!!, rt, @8...</td>\n",
       "    </tr>\n",
       "    <tr>\n",
       "      <th>3</th>\n",
       "      <td>[!!!!!!!!!, rt, @c_g_anderson:, @viva_based, s...</td>\n",
       "    </tr>\n",
       "    <tr>\n",
       "      <th>4</th>\n",
       "      <td>[!!!!!!!!!!!!!, rt, @shenikaroberts:, the, shi...</td>\n",
       "    </tr>\n",
       "    <tr>\n",
       "      <th>...</th>\n",
       "      <td>...</td>\n",
       "    </tr>\n",
       "    <tr>\n",
       "      <th>24778</th>\n",
       "      <td>[you's, a, muthaf***in, lie, &amp;#8220;@lifeaskin...</td>\n",
       "    </tr>\n",
       "    <tr>\n",
       "      <th>24779</th>\n",
       "      <td>[you've, gone, and, broke, the, wrong, heart, ...</td>\n",
       "    </tr>\n",
       "    <tr>\n",
       "      <th>24780</th>\n",
       "      <td>[young, buck, wanna, eat!!.., dat, nigguh, lik...</td>\n",
       "    </tr>\n",
       "    <tr>\n",
       "      <th>24781</th>\n",
       "      <td>[youu, got, wild, bitches, tellin, you, lies]</td>\n",
       "    </tr>\n",
       "    <tr>\n",
       "      <th>24782</th>\n",
       "      <td>[~~ruffled, |, ntac, eileen, dahlia, -, beauti...</td>\n",
       "    </tr>\n",
       "  </tbody>\n",
       "</table>\n",
       "<p>24783 rows × 1 columns</p>\n",
       "</div>"
      ],
      "text/plain": [
       "                                                   tweet\n",
       "0      [!!!, rt, @mayasolovely:, as, a, woman, you, s...\n",
       "1      [!!!!!, rt, @mleew17:, boy, dats, cold...tyga,...\n",
       "2      [!!!!!!!, rt, @urkindofbrand, dawg!!!!, rt, @8...\n",
       "3      [!!!!!!!!!, rt, @c_g_anderson:, @viva_based, s...\n",
       "4      [!!!!!!!!!!!!!, rt, @shenikaroberts:, the, shi...\n",
       "...                                                  ...\n",
       "24778  [you's, a, muthaf***in, lie, &#8220;@lifeaskin...\n",
       "24779  [you've, gone, and, broke, the, wrong, heart, ...\n",
       "24780  [young, buck, wanna, eat!!.., dat, nigguh, lik...\n",
       "24781      [youu, got, wild, bitches, tellin, you, lies]\n",
       "24782  [~~ruffled, |, ntac, eileen, dahlia, -, beauti...\n",
       "\n",
       "[24783 rows x 1 columns]"
      ]
     },
     "execution_count": 21,
     "metadata": {},
     "output_type": "execute_result"
    }
   ],
   "source": [
    "tweets"
   ]
  },
  {
   "cell_type": "code",
   "execution_count": null,
   "id": "1c37aece",
   "metadata": {},
   "outputs": [],
   "source": []
  }
 ],
 "metadata": {
  "kernelspec": {
   "display_name": "Python 3",
   "language": "python",
   "name": "python3"
  },
  "language_info": {
   "codemirror_mode": {
    "name": "ipython",
    "version": 3
   },
   "file_extension": ".py",
   "mimetype": "text/x-python",
   "name": "python",
   "nbconvert_exporter": "python",
   "pygments_lexer": "ipython3",
   "version": "3.9.4"
  }
 },
 "nbformat": 4,
 "nbformat_minor": 5
}
